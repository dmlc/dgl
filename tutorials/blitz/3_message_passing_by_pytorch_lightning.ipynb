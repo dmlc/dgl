{
 "cells": [
  {
   "cell_type": "code",
   "execution_count": 1,
   "metadata": {
    "id": "8vIpGlT-XsVF"
   },
   "outputs": [],
   "source": [
    "# !pip install pytorch-lightning\n",
    "# !pip install torchlayers\n",
    "# !pip install torchmetric\n",
    "# !pip install dgl-cu113 dglgo -f https://data.dgl.ai/wheels/repo.html\n",
    "#!pip install rich --upgrade\n",
    "import pytorch_lightning as pl\n",
    "import torchmetrics\n",
    "import dgl\n",
    "import warnings\n",
    "warnings.filterwarnings('ignore')"
   ]
  },
  {
   "cell_type": "code",
   "execution_count": 2,
   "metadata": {
    "id": "QijKeqTxoc_h"
   },
   "outputs": [],
   "source": [
    "\"\"\"\n",
    "Write your own GNN module\n",
    "=========================\n",
    "\n",
    "Sometimes, your model goes beyond simply stacking existing GNN modules.\n",
    "For example, you would like to invent a new way of aggregating neighbor\n",
    "information by considering node importance or edge weights.\n",
    "\n",
    "By the end of this tutorial you will be able to\n",
    "\n",
    "-  Understand DGL’s message passing APIs.\n",
    "-  Implement GraphSAGE convolution module by your own.\n",
    "\n",
    "This tutorial assumes that you already know :doc:`the basics of training a\n",
    "GNN for node classification <1_introduction>`.\n",
    "\n",
    "(Time estimate: 10 minutes)\n",
    "\n",
    "\"\"\"\n",
    "\n",
    "import dgl\n",
    "import torch\n",
    "import torch.nn as nn\n",
    "import torch.nn.functional as F\n",
    "from torch.optim.lr_scheduler import ReduceLROnPlateau\n"
   ]
  },
  {
   "cell_type": "code",
   "execution_count": 3,
   "metadata": {
    "id": "n0NgnoD0pjwb"
   },
   "outputs": [],
   "source": [
    "\n",
    "\n",
    "\n",
    "######################################################################\n",
    "# Message passing and GNNs\n",
    "# ------------------------\n",
    "# \n",
    "# DGL follows the *message passing paradigm* inspired by the Message\n",
    "# Passing Neural Network proposed by `Gilmer et\n",
    "# al. <https://arxiv.org/abs/1704.01212>`__ Essentially, they found many\n",
    "# GNN models can fit into the following framework:\n",
    "# \n",
    "# .. math::\n",
    "# \n",
    "# \n",
    "#    m_{u\\to v}^{(l)} = M^{(l)}\\left(h_v^{(l-1)}, h_u^{(l-1)}, e_{u\\to v}^{(l-1)}\\right)\n",
    "# \n",
    "# .. math::\n",
    "# \n",
    "# \n",
    "#    m_{v}^{(l)} = \\sum_{u\\in\\mathcal{N}(v)}m_{u\\to v}^{(l)}\n",
    "# \n",
    "# .. math::\n",
    "# \n",
    "# \n",
    "#    h_v^{(l)} = U^{(l)}\\left(h_v^{(l-1)}, m_v^{(l)}\\right)\n",
    "# \n",
    "# where DGL calls :math:`M^{(l)}` the *message function*, :math:`\\sum` the\n",
    "# *reduce function* and :math:`U^{(l)}` the *update function*. Note that\n",
    "# :math:`\\sum` here can represent any function and is not necessarily a\n",
    "# summation.\n",
    "# \n",
    "\n",
    "\n",
    "######################################################################\n",
    "# For example, the `GraphSAGE convolution (Hamilton et al.,\n",
    "# 2017) <https://cs.stanford.edu/people/jure/pubs/graphsage-nips17.pdf>`__\n",
    "# takes the following mathematical form:\n",
    "# \n",
    "# .. math::\n",
    "# \n",
    "# \n",
    "#    h_{\\mathcal{N}(v)}^k\\leftarrow \\text{Average}\\{h_u^{k-1},\\forall u\\in\\mathcal{N}(v)\\}\n",
    "# \n",
    "# .. math::\n",
    "# \n",
    "# \n",
    "#    h_v^k\\leftarrow \\text{ReLU}\\left(W^k\\cdot \\text{CONCAT}(h_v^{k-1}, h_{\\mathcal{N}(v)}^k) \\right)\n",
    "# \n",
    "# You can see that message passing is directional: the message sent from\n",
    "# one node :math:`u` to other node :math:`v` is not necessarily the same\n",
    "# as the other message sent from node :math:`v` to node :math:`u` in the\n",
    "# opposite direction.\n",
    "# \n",
    "# Although DGL has builtin support of GraphSAGE via\n",
    "# :class:`dgl.nn.SAGEConv <dgl.nn.pytorch.SAGEConv>`,\n",
    "# here is how you can implement GraphSAGE convolution in DGL by your own.\n",
    "# \n",
    "\n",
    "import dgl.function as fn\n",
    "\n",
    "\n",
    "class SAGEConv(nn.Module):\n",
    "    \"\"\"Graph convolution module used by the GraphSAGE model.\n",
    "    \n",
    "    Parameters\n",
    "    ----------\n",
    "    in_feat : int\n",
    "        Input feature size.\n",
    "    out_feat : int\n",
    "        Output feature size.\n",
    "    \"\"\"\n",
    "    def __init__(self, in_feat, out_feat):\n",
    "        super(SAGEConv, self).__init__()\n",
    "        # A linear submodule for projecting the input and neighbor feature to the output.\n",
    "        self.linear = nn.Linear(in_feat * 2, out_feat)\n",
    "    \n",
    "    def forward(self, g, h):\n",
    "        \"\"\"Forward computation\n",
    "        \n",
    "        Parameters\n",
    "        ----------\n",
    "        g : Graph\n",
    "            The input graph.\n",
    "        h : Tensor\n",
    "            The input node feature.\n",
    "        \"\"\"\n",
    "        with g.local_scope():\n",
    "            g.ndata['h'] = h\n",
    "            # update_all is a message passing API.\n",
    "            g.update_all(message_func=fn.copy_u('h', 'm'), reduce_func=fn.mean('m', 'h_N'))\n",
    "            h_N = g.ndata['h_N']\n",
    "            h_total = torch.cat([h, h_N], dim=1)\n",
    "            return self.linear(h_total)\n",
    "\n",
    "\n",
    "######################################################################\n",
    "# The central piece in this code is the\n",
    "# :func:`g.update_all <dgl.DGLGraph.update_all>`\n",
    "# function, which gathers and averages the neighbor features. There are\n",
    "# three concepts here:\n",
    "#\n",
    "# * Message function ``fn.copy_u('h', 'm')`` that\n",
    "#   copies the node feature under name ``'h'`` as *messages* sent to\n",
    "#   neighbors.\n",
    "#\n",
    "# * Reduce function ``fn.mean('m', 'h_N')`` that averages\n",
    "#   all the received messages under name ``'m'`` and saves the result as a\n",
    "#   new node feature ``'h_N'``.\n",
    "#\n",
    "# * ``update_all`` tells DGL to trigger the\n",
    "#   message and reduce functions for all the nodes and edges.\n",
    "# \n",
    "\n",
    "\n",
    "######################################################################\n",
    "# Afterwards, you can stack your own GraphSAGE convolution layers to form\n",
    "# a multi-layer GraphSAGE network.\n",
    "#\n",
    "\n",
    "class Model(nn.Module):\n",
    "    def __init__(self, in_feats, h_feats, num_classes):\n",
    "        super(Model, self).__init__()\n",
    "        self.conv1 = SAGEConv(in_feats, h_feats)\n",
    "        self.conv2 = SAGEConv(h_feats, num_classes)\n",
    "    \n",
    "    def forward(self, g, in_feat):\n",
    "        h = self.conv1(g, in_feat)\n",
    "        h = F.relu(h)\n",
    "        h = self.conv2(g, h)\n",
    "        return h\n",
    "\n",
    "\n",
    "######################################################################\n",
    "# Training loop\n",
    "# ~~~~~~~~~~~~~\n",
    "# The following code for data loading and training loop is directly copied\n",
    "# from the introduction tutorial.\n",
    "# \n",
    "\n",
    "\n",
    "\n",
    "class CustomSage(pl.LightningModule):\n",
    "  def __init__(self,torch_model):\n",
    "    super(CustomSage,self).__init__()\n",
    "\n",
    "    self.model = torch_model\n",
    "    self.train_accuracy = torchmetrics.Accuracy()\n",
    "    self.val_accuracy = torchmetrics.Accuracy()\n",
    "    self.test_accuracy = torchmetrics.Accuracy()\n",
    "    \n",
    "  def forward(self,g,in_feat):\n",
    "    logits = self.model(g, in_feat)\n",
    "    return logits\n",
    "\n",
    "  def training_step(self,batch,batch_idx):\n",
    "    g = batch\n",
    "    features = g.ndata['feat']\n",
    "    labels = g.ndata['label']\n",
    "    train_mask = g.ndata['train_mask']\n",
    "    val_mask = g.ndata['val_mask']\n",
    "    test_mask = g.ndata['test_mask']\n",
    "    logits = self(g, features)\n",
    "    pred = logits.argmax(1)\n",
    "    loss = F.cross_entropy(logits[train_mask], labels[train_mask])\n",
    "    self.train_accuracy(pred[train_mask],labels[train_mask])\n",
    "    self.val_accuracy(pred[val_mask],labels[val_mask])\n",
    "    self.test_accuracy(pred[test_mask],labels[test_mask])\n",
    "    self.log_dict({'train/loss':loss,'train/accuracy':self.train_accuracy},prog_bar=True,on_step=True,on_epoch=True,batch_size=1) # set the batch_size =1\n",
    "    return loss   \n",
    "\n",
    "  def validation_step(self,batch,batch_idx):\n",
    "      self.log_dict({'valid/accuracy':self.val_accuracy,'test/accuracy':self.test_accuracy},prog_bar=True,on_step=True,on_epoch=True,batch_size=1) \n",
    "\n",
    "  def predict_step(self,batch,batch_idx):\n",
    "    g = batch\n",
    "    features = g.ndata['feat']\n",
    "    # Forward\n",
    "    logits = self(g, features)\n",
    "    return logits\n",
    "\n",
    "  def configure_optimizers(self):\n",
    "    optimizer = torch.optim.Adam(self.parameters(),lr=1e-2,weight_decay=1e-7)\n",
    "    lr_scheduler = {\n",
    "        \"scheduler\": ReduceLROnPlateau(\n",
    "            optimizer,\n",
    "            mode='min',\n",
    "            factor=0.9,\n",
    "            patience=15,\n",
    "            min_lr=1e-3\n",
    "        ),\n",
    "        \"interval\": \"epoch\",\n",
    "        \"frequency\": 1,\n",
    "        \"monitor\": \"valid/accuracy_epoch\",\n",
    "        \"strict\": True,\n",
    "        \"name\": \"Learning Rate\",\n",
    "    }\n",
    "    return [optimizer], [lr_scheduler]\n",
    "\n"
   ]
  },
  {
   "cell_type": "code",
   "execution_count": 4,
   "metadata": {
    "colab": {
     "base_uri": "https://localhost:8080/",
     "height": 1000,
     "referenced_widgets": [
      "b2363e589e5b43098c611ab23f293667",
      "7270c89355c94fd9ac072a906553f3ee",
      "588736e80e4b4521b5cd3ec44868bc22",
      "8aa454fc5ba64dcfafa8b3d5930dd067"
     ]
    },
    "id": "MSShO1pJrfri",
    "outputId": "00c91952-6808-489d-df14-31fd33467499"
   },
   "outputs": [
    {
     "name": "stderr",
     "output_type": "stream",
     "text": [
      "GPU available: True, used: True\n",
      "TPU available: False, using: 0 TPU cores\n",
      "IPU available: False, using: 0 IPUs\n",
      "HPU available: False, using: 0 HPUs\n",
      "`Trainer(val_check_interval=1.0)` was configured so validation will run at the end of the training epoch..\n"
     ]
    },
    {
     "name": "stdout",
     "output_type": "stream",
     "text": [
      "  NumNodes: 2708\n",
      "  NumEdges: 10556\n",
      "  NumFeats: 1433\n",
      "  NumClasses: 7\n",
      "  NumTrainingSamples: 140\n",
      "  NumValidationSamples: 500\n",
      "  NumTestSamples: 1000\n",
      "Done loading data from cached files.\n"
     ]
    },
    {
     "name": "stderr",
     "output_type": "stream",
     "text": [
      "LOCAL_RANK: 0 - CUDA_VISIBLE_DEVICES: [0]\n"
     ]
    },
    {
     "data": {
      "text/html": [
       "<pre style=\"white-space:pre;overflow-x:auto;line-height:normal;font-family:Menlo,'DejaVu Sans Mono',consolas,'Courier New',monospace\">┏━━━┳━━━━━━━━━━━━━━━━┳━━━━━━━━━━┳━━━━━━━━┓\n",
       "┃<span style=\"color: #800080; text-decoration-color: #800080; font-weight: bold\">   </span>┃<span style=\"color: #800080; text-decoration-color: #800080; font-weight: bold\"> Name           </span>┃<span style=\"color: #800080; text-decoration-color: #800080; font-weight: bold\"> Type     </span>┃<span style=\"color: #800080; text-decoration-color: #800080; font-weight: bold\"> Params </span>┃\n",
       "┡━━━╇━━━━━━━━━━━━━━━━╇━━━━━━━━━━╇━━━━━━━━┩\n",
       "│<span style=\"color: #7f7f7f; text-decoration-color: #7f7f7f\"> 0 </span>│ model          │ Model    │ 46.1 K │\n",
       "│<span style=\"color: #7f7f7f; text-decoration-color: #7f7f7f\"> 1 </span>│ train_accuracy │ Accuracy │      0 │\n",
       "│<span style=\"color: #7f7f7f; text-decoration-color: #7f7f7f\"> 2 </span>│ val_accuracy   │ Accuracy │      0 │\n",
       "│<span style=\"color: #7f7f7f; text-decoration-color: #7f7f7f\"> 3 </span>│ test_accuracy  │ Accuracy │      0 │\n",
       "└───┴────────────────┴──────────┴────────┘\n",
       "</pre>\n"
      ],
      "text/plain": [
       "┏━━━┳━━━━━━━━━━━━━━━━┳━━━━━━━━━━┳━━━━━━━━┓\n",
       "┃\u001b[1;35m \u001b[0m\u001b[1;35m \u001b[0m\u001b[1;35m \u001b[0m┃\u001b[1;35m \u001b[0m\u001b[1;35mName          \u001b[0m\u001b[1;35m \u001b[0m┃\u001b[1;35m \u001b[0m\u001b[1;35mType    \u001b[0m\u001b[1;35m \u001b[0m┃\u001b[1;35m \u001b[0m\u001b[1;35mParams\u001b[0m\u001b[1;35m \u001b[0m┃\n",
       "┡━━━╇━━━━━━━━━━━━━━━━╇━━━━━━━━━━╇━━━━━━━━┩\n",
       "│\u001b[2m \u001b[0m\u001b[2m0\u001b[0m\u001b[2m \u001b[0m│ model          │ Model    │ 46.1 K │\n",
       "│\u001b[2m \u001b[0m\u001b[2m1\u001b[0m\u001b[2m \u001b[0m│ train_accuracy │ Accuracy │      0 │\n",
       "│\u001b[2m \u001b[0m\u001b[2m2\u001b[0m\u001b[2m \u001b[0m│ val_accuracy   │ Accuracy │      0 │\n",
       "│\u001b[2m \u001b[0m\u001b[2m3\u001b[0m\u001b[2m \u001b[0m│ test_accuracy  │ Accuracy │      0 │\n",
       "└───┴────────────────┴──────────┴────────┘\n"
      ]
     },
     "metadata": {},
     "output_type": "display_data"
    },
    {
     "data": {
      "text/html": [
       "<pre style=\"white-space:pre;overflow-x:auto;line-height:normal;font-family:Menlo,'DejaVu Sans Mono',consolas,'Courier New',monospace\"><span style=\"font-weight: bold\">Trainable params</span>: 46.1 K                                                                     \n",
       "<span style=\"font-weight: bold\">Non-trainable params</span>: 0                                                                      \n",
       "<span style=\"font-weight: bold\">Total params</span>: 46.1 K                                                                         \n",
       "<span style=\"font-weight: bold\">Total estimated model params size (MB)</span>: 0                                                    \n",
       "</pre>\n"
      ],
      "text/plain": [
       "\u001b[1mTrainable params\u001b[0m: 46.1 K                                                                     \n",
       "\u001b[1mNon-trainable params\u001b[0m: 0                                                                      \n",
       "\u001b[1mTotal params\u001b[0m: 46.1 K                                                                         \n",
       "\u001b[1mTotal estimated model params size (MB)\u001b[0m: 0                                                    \n"
      ]
     },
     "metadata": {},
     "output_type": "display_data"
    },
    {
     "data": {
      "application/vnd.jupyter.widget-view+json": {
       "model_id": "b2363e589e5b43098c611ab23f293667",
       "version_major": 2,
       "version_minor": 0
      },
      "text/plain": [
       "Output()"
      ]
     },
     "metadata": {},
     "output_type": "display_data"
    },
    {
     "name": "stderr",
     "output_type": "stream",
     "text": [
      "Metric valid/accuracy improved. New best score: 0.114\n",
      "Metric valid/accuracy improved by 0.004 >= min_delta = 0.0. New best score: 0.118\n",
      "Metric valid/accuracy improved by 0.134 >= min_delta = 0.0. New best score: 0.252\n",
      "Metric valid/accuracy improved by 0.264 >= min_delta = 0.0. New best score: 0.516\n",
      "Metric valid/accuracy improved by 0.070 >= min_delta = 0.0. New best score: 0.586\n",
      "Metric valid/accuracy improved by 0.052 >= min_delta = 0.0. New best score: 0.638\n",
      "Metric valid/accuracy improved by 0.016 >= min_delta = 0.0. New best score: 0.654\n",
      "Metric valid/accuracy improved by 0.002 >= min_delta = 0.0. New best score: 0.656\n",
      "Metric valid/accuracy improved by 0.004 >= min_delta = 0.0. New best score: 0.660\n",
      "Metric valid/accuracy improved by 0.002 >= min_delta = 0.0. New best score: 0.662\n",
      "Metric valid/accuracy improved by 0.010 >= min_delta = 0.0. New best score: 0.672\n",
      "Metric valid/accuracy improved by 0.016 >= min_delta = 0.0. New best score: 0.688\n",
      "Metric valid/accuracy improved by 0.004 >= min_delta = 0.0. New best score: 0.692\n",
      "Metric valid/accuracy improved by 0.002 >= min_delta = 0.0. New best score: 0.694\n",
      "Metric valid/accuracy improved by 0.006 >= min_delta = 0.0. New best score: 0.700\n",
      "Metric valid/accuracy improved by 0.004 >= min_delta = 0.0. New best score: 0.704\n",
      "Metric valid/accuracy improved by 0.002 >= min_delta = 0.0. New best score: 0.706\n",
      "Metric valid/accuracy improved by 0.002 >= min_delta = 0.0. New best score: 0.708\n",
      "Metric valid/accuracy improved by 0.004 >= min_delta = 0.0. New best score: 0.712\n",
      "Metric valid/accuracy improved by 0.002 >= min_delta = 0.0. New best score: 0.714\n",
      "Metric valid/accuracy improved by 0.004 >= min_delta = 0.0. New best score: 0.718\n",
      "Metric valid/accuracy improved by 0.002 >= min_delta = 0.0. New best score: 0.720\n",
      "Metric valid/accuracy improved by 0.002 >= min_delta = 0.0. New best score: 0.722\n",
      "Metric valid/accuracy improved by 0.008 >= min_delta = 0.0. New best score: 0.730\n",
      "Metric valid/accuracy improved by 0.002 >= min_delta = 0.0. New best score: 0.732\n",
      "Metric valid/accuracy improved by 0.002 >= min_delta = 0.0. New best score: 0.734\n",
      "Metric valid/accuracy improved by 0.002 >= min_delta = 0.0. New best score: 0.736\n",
      "Metric valid/accuracy improved by 0.002 >= min_delta = 0.0. New best score: 0.738\n",
      "Metric valid/accuracy improved by 0.002 >= min_delta = 0.0. New best score: 0.740\n",
      "Metric valid/accuracy improved by 0.004 >= min_delta = 0.0. New best score: 0.744\n",
      "Metric valid/accuracy improved by 0.002 >= min_delta = 0.0. New best score: 0.746\n",
      "Monitored metric valid/accuracy did not improve in the last 30 records. Best score: 0.746. Signaling Trainer to stop.\n"
     ]
    },
    {
     "data": {
      "text/html": [
       "<pre style=\"white-space:pre;overflow-x:auto;line-height:normal;font-family:Menlo,'DejaVu Sans Mono',consolas,'Courier New',monospace\"></pre>\n"
      ],
      "text/plain": []
     },
     "metadata": {},
     "output_type": "display_data"
    },
    {
     "data": {
      "text/html": [
       "<pre style=\"white-space:pre;overflow-x:auto;line-height:normal;font-family:Menlo,'DejaVu Sans Mono',consolas,'Courier New',monospace\">\n",
       "</pre>\n"
      ],
      "text/plain": [
       "\n"
      ]
     },
     "metadata": {},
     "output_type": "display_data"
    },
    {
     "name": "stderr",
     "output_type": "stream",
     "text": [
      "LOCAL_RANK: 0 - CUDA_VISIBLE_DEVICES: [0]\n"
     ]
    },
    {
     "data": {
      "application/vnd.jupyter.widget-view+json": {
       "model_id": "588736e80e4b4521b5cd3ec44868bc22",
       "version_major": 2,
       "version_minor": 0
      },
      "text/plain": [
       "Output()"
      ]
     },
     "metadata": {},
     "output_type": "display_data"
    },
    {
     "data": {
      "text/html": [
       "<pre style=\"white-space:pre;overflow-x:auto;line-height:normal;font-family:Menlo,'DejaVu Sans Mono',consolas,'Courier New',monospace\"></pre>\n"
      ],
      "text/plain": []
     },
     "metadata": {},
     "output_type": "display_data"
    },
    {
     "data": {
      "text/html": [
       "<pre style=\"white-space:pre;overflow-x:auto;line-height:normal;font-family:Menlo,'DejaVu Sans Mono',consolas,'Courier New',monospace\">\n",
       "</pre>\n"
      ],
      "text/plain": [
       "\n"
      ]
     },
     "metadata": {},
     "output_type": "display_data"
    },
    {
     "name": "stdout",
     "output_type": "stream",
     "text": [
      "tensor([[-1.3196, -0.3394, -0.9310,  ...,  3.9556, -2.1971, -0.3560],\n",
      "        [-0.6079, -1.0620, -0.6462,  ...,  3.4164, -2.4671,  0.2075],\n",
      "        [-1.5185, -0.4258, -0.5863,  ...,  4.0568, -2.3809,  0.2578],\n",
      "        ...,\n",
      "        [ 0.5408, -0.8290, -0.4664,  ...,  0.6450, -1.2075, -0.7228],\n",
      "        [-1.0078, -1.7803, -0.0888,  ..., -0.1327,  0.6172, -1.9845],\n",
      "        [ 0.0656, -2.0408,  0.4820,  ..., -0.3377, -0.1744, -2.2688]])\n",
      "tensor([4, 4, 4,  ..., 4, 3, 3])\n"
     ]
    }
   ],
   "source": [
    "import os\n",
    "from pytorch_lightning.loggers.tensorboard import TensorBoardLogger\n",
    "from pytorch_lightning.callbacks import RichProgressBar,ModelCheckpoint,EarlyStopping,LearningRateMonitor\n",
    "\n",
    "trainer = pl.Trainer(\n",
    "    fast_dev_run=False,\n",
    "    max_epochs=100,\n",
    "    gpus=1,\n",
    "    precision=32,\n",
    "    check_val_every_n_epoch=1,\n",
    "    val_check_interval=1.0,\n",
    "    num_sanity_val_steps=0,\n",
    "    callbacks=[\n",
    "               \n",
    "    ModelCheckpoint(dirpath=os.getcwd(),filename=f'Graphsage_DGL_' + '{valid/accuracy:.6f}',monitor='valid/accuracy',mode='max',save_weights_only=False), \\\n",
    "    LearningRateMonitor(logging_interval='step'),EarlyStopping(monitor='valid/accuracy',min_delta=0.00,patience=30,verbose=True,mode='max',check_on_train_epoch_end=False),RichProgressBar()],\n",
    "    logger=TensorBoardLogger(\n",
    "    save_dir=os.getcwd(),\n",
    "    version=1,\n",
    "    name='Graphsage_by_DGL'\n",
    ")\n",
    "  )\n",
    "\n",
    "from torch.utils.data import DataLoader\n",
    "import dgl.data\n",
    "dataset = dgl.data.CoraGraphDataset()\n",
    "g = dataset[0]\n",
    "\n",
    "gloader = DataLoader([g],batch_size=None) # use \"[g]\" instead of \"g\" \n",
    "loader_for_valid = DataLoader([0],batch_size=None) ## use an empty daloader to enable validation_step of lightning model\n",
    "\n",
    "sagemodel = CustomSage(Model(g.ndata['feat'].shape[1], 16, dataset.num_classes))\n",
    "trainer.fit(sagemodel, gloader , loader_for_valid)\n",
    "\n",
    "\n",
    "preds = trainer.predict(sagemodel,gloader)\n",
    "print(preds[0])\n",
    "print(preds[0].argmax(1))"
   ]
  },
  {
   "cell_type": "code",
   "execution_count": 5,
   "metadata": {
    "colab": {
     "base_uri": "https://localhost:8080/",
     "height": 1000,
     "referenced_widgets": [
      "3fafd42f25b4404ba909f9dbddc7d869",
      "e317dff6e8384d42b18264ade6343275",
      "cc60dd053a834fe49255beffe41b91a7",
      "a10d01d66d914d848e5df4308cfbc3b2"
     ]
    },
    "id": "JhBRfsPZucQY",
    "outputId": "9d25c68f-1929-4f59-fa40-0dc22394f9ac"
   },
   "outputs": [
    {
     "name": "stderr",
     "output_type": "stream",
     "text": [
      "GPU available: True, used: True\n",
      "TPU available: False, using: 0 TPU cores\n",
      "IPU available: False, using: 0 IPUs\n",
      "HPU available: False, using: 0 HPUs\n",
      "`Trainer(val_check_interval=1.0)` was configured so validation will run at the end of the training epoch..\n",
      "LOCAL_RANK: 0 - CUDA_VISIBLE_DEVICES: [0]\n"
     ]
    },
    {
     "data": {
      "text/html": [
       "<pre style=\"white-space:pre;overflow-x:auto;line-height:normal;font-family:Menlo,'DejaVu Sans Mono',consolas,'Courier New',monospace\">┏━━━┳━━━━━━━━━━━━━━━━┳━━━━━━━━━━━━━━┳━━━━━━━━┓\n",
       "┃<span style=\"color: #800080; text-decoration-color: #800080; font-weight: bold\">   </span>┃<span style=\"color: #800080; text-decoration-color: #800080; font-weight: bold\"> Name           </span>┃<span style=\"color: #800080; text-decoration-color: #800080; font-weight: bold\"> Type         </span>┃<span style=\"color: #800080; text-decoration-color: #800080; font-weight: bold\"> Params </span>┃\n",
       "┡━━━╇━━━━━━━━━━━━━━━━╇━━━━━━━━━━━━━━╇━━━━━━━━┩\n",
       "│<span style=\"color: #7f7f7f; text-decoration-color: #7f7f7f\"> 0 </span>│ model          │ AnotherModel │ 46.1 K │\n",
       "│<span style=\"color: #7f7f7f; text-decoration-color: #7f7f7f\"> 1 </span>│ train_accuracy │ Accuracy     │      0 │\n",
       "│<span style=\"color: #7f7f7f; text-decoration-color: #7f7f7f\"> 2 </span>│ val_accuracy   │ Accuracy     │      0 │\n",
       "│<span style=\"color: #7f7f7f; text-decoration-color: #7f7f7f\"> 3 </span>│ test_accuracy  │ Accuracy     │      0 │\n",
       "└───┴────────────────┴──────────────┴────────┘\n",
       "</pre>\n"
      ],
      "text/plain": [
       "┏━━━┳━━━━━━━━━━━━━━━━┳━━━━━━━━━━━━━━┳━━━━━━━━┓\n",
       "┃\u001b[1;35m \u001b[0m\u001b[1;35m \u001b[0m\u001b[1;35m \u001b[0m┃\u001b[1;35m \u001b[0m\u001b[1;35mName          \u001b[0m\u001b[1;35m \u001b[0m┃\u001b[1;35m \u001b[0m\u001b[1;35mType        \u001b[0m\u001b[1;35m \u001b[0m┃\u001b[1;35m \u001b[0m\u001b[1;35mParams\u001b[0m\u001b[1;35m \u001b[0m┃\n",
       "┡━━━╇━━━━━━━━━━━━━━━━╇━━━━━━━━━━━━━━╇━━━━━━━━┩\n",
       "│\u001b[2m \u001b[0m\u001b[2m0\u001b[0m\u001b[2m \u001b[0m│ model          │ AnotherModel │ 46.1 K │\n",
       "│\u001b[2m \u001b[0m\u001b[2m1\u001b[0m\u001b[2m \u001b[0m│ train_accuracy │ Accuracy     │      0 │\n",
       "│\u001b[2m \u001b[0m\u001b[2m2\u001b[0m\u001b[2m \u001b[0m│ val_accuracy   │ Accuracy     │      0 │\n",
       "│\u001b[2m \u001b[0m\u001b[2m3\u001b[0m\u001b[2m \u001b[0m│ test_accuracy  │ Accuracy     │      0 │\n",
       "└───┴────────────────┴──────────────┴────────┘\n"
      ]
     },
     "metadata": {},
     "output_type": "display_data"
    },
    {
     "data": {
      "text/html": [
       "<pre style=\"white-space:pre;overflow-x:auto;line-height:normal;font-family:Menlo,'DejaVu Sans Mono',consolas,'Courier New',monospace\"><span style=\"font-weight: bold\">Trainable params</span>: 46.1 K                                                                     \n",
       "<span style=\"font-weight: bold\">Non-trainable params</span>: 0                                                                      \n",
       "<span style=\"font-weight: bold\">Total params</span>: 46.1 K                                                                         \n",
       "<span style=\"font-weight: bold\">Total estimated model params size (MB)</span>: 0                                                    \n",
       "</pre>\n"
      ],
      "text/plain": [
       "\u001b[1mTrainable params\u001b[0m: 46.1 K                                                                     \n",
       "\u001b[1mNon-trainable params\u001b[0m: 0                                                                      \n",
       "\u001b[1mTotal params\u001b[0m: 46.1 K                                                                         \n",
       "\u001b[1mTotal estimated model params size (MB)\u001b[0m: 0                                                    \n"
      ]
     },
     "metadata": {},
     "output_type": "display_data"
    },
    {
     "data": {
      "application/vnd.jupyter.widget-view+json": {
       "model_id": "3fafd42f25b4404ba909f9dbddc7d869",
       "version_major": 2,
       "version_minor": 0
      },
      "text/plain": [
       "Output()"
      ]
     },
     "metadata": {},
     "output_type": "display_data"
    },
    {
     "name": "stderr",
     "output_type": "stream",
     "text": [
      "Metric valid/accuracy improved. New best score: 0.114\n",
      "Metric valid/accuracy improved by 0.004 >= min_delta = 0.0. New best score: 0.118\n",
      "Metric valid/accuracy improved by 0.054 >= min_delta = 0.0. New best score: 0.172\n",
      "Metric valid/accuracy improved by 0.138 >= min_delta = 0.0. New best score: 0.310\n",
      "Metric valid/accuracy improved by 0.094 >= min_delta = 0.0. New best score: 0.404\n",
      "Metric valid/accuracy improved by 0.012 >= min_delta = 0.0. New best score: 0.416\n",
      "Metric valid/accuracy improved by 0.002 >= min_delta = 0.0. New best score: 0.418\n",
      "Metric valid/accuracy improved by 0.004 >= min_delta = 0.0. New best score: 0.422\n",
      "Metric valid/accuracy improved by 0.004 >= min_delta = 0.0. New best score: 0.426\n",
      "Metric valid/accuracy improved by 0.004 >= min_delta = 0.0. New best score: 0.430\n",
      "Metric valid/accuracy improved by 0.014 >= min_delta = 0.0. New best score: 0.444\n",
      "Metric valid/accuracy improved by 0.020 >= min_delta = 0.0. New best score: 0.464\n",
      "Metric valid/accuracy improved by 0.008 >= min_delta = 0.0. New best score: 0.472\n",
      "Metric valid/accuracy improved by 0.008 >= min_delta = 0.0. New best score: 0.480\n",
      "Metric valid/accuracy improved by 0.006 >= min_delta = 0.0. New best score: 0.486\n",
      "Metric valid/accuracy improved by 0.006 >= min_delta = 0.0. New best score: 0.492\n",
      "Metric valid/accuracy improved by 0.004 >= min_delta = 0.0. New best score: 0.496\n",
      "Metric valid/accuracy improved by 0.016 >= min_delta = 0.0. New best score: 0.512\n",
      "Metric valid/accuracy improved by 0.008 >= min_delta = 0.0. New best score: 0.520\n",
      "Metric valid/accuracy improved by 0.014 >= min_delta = 0.0. New best score: 0.534\n",
      "Metric valid/accuracy improved by 0.018 >= min_delta = 0.0. New best score: 0.552\n",
      "Metric valid/accuracy improved by 0.008 >= min_delta = 0.0. New best score: 0.560\n",
      "Metric valid/accuracy improved by 0.016 >= min_delta = 0.0. New best score: 0.576\n",
      "Metric valid/accuracy improved by 0.026 >= min_delta = 0.0. New best score: 0.602\n",
      "Metric valid/accuracy improved by 0.010 >= min_delta = 0.0. New best score: 0.612\n",
      "Metric valid/accuracy improved by 0.008 >= min_delta = 0.0. New best score: 0.620\n",
      "Metric valid/accuracy improved by 0.022 >= min_delta = 0.0. New best score: 0.642\n",
      "Metric valid/accuracy improved by 0.016 >= min_delta = 0.0. New best score: 0.658\n",
      "Metric valid/accuracy improved by 0.014 >= min_delta = 0.0. New best score: 0.672\n",
      "Metric valid/accuracy improved by 0.012 >= min_delta = 0.0. New best score: 0.684\n",
      "Metric valid/accuracy improved by 0.012 >= min_delta = 0.0. New best score: 0.696\n",
      "Metric valid/accuracy improved by 0.012 >= min_delta = 0.0. New best score: 0.708\n",
      "Metric valid/accuracy improved by 0.002 >= min_delta = 0.0. New best score: 0.710\n",
      "Metric valid/accuracy improved by 0.002 >= min_delta = 0.0. New best score: 0.712\n",
      "Metric valid/accuracy improved by 0.010 >= min_delta = 0.0. New best score: 0.722\n",
      "Metric valid/accuracy improved by 0.002 >= min_delta = 0.0. New best score: 0.724\n",
      "Metric valid/accuracy improved by 0.008 >= min_delta = 0.0. New best score: 0.732\n",
      "Metric valid/accuracy improved by 0.004 >= min_delta = 0.0. New best score: 0.736\n",
      "Metric valid/accuracy improved by 0.004 >= min_delta = 0.0. New best score: 0.740\n",
      "Metric valid/accuracy improved by 0.006 >= min_delta = 0.0. New best score: 0.746\n",
      "Metric valid/accuracy improved by 0.006 >= min_delta = 0.0. New best score: 0.752\n",
      "Metric valid/accuracy improved by 0.004 >= min_delta = 0.0. New best score: 0.756\n",
      "Metric valid/accuracy improved by 0.002 >= min_delta = 0.0. New best score: 0.758\n",
      "Metric valid/accuracy improved by 0.002 >= min_delta = 0.0. New best score: 0.760\n",
      "Metric valid/accuracy improved by 0.002 >= min_delta = 0.0. New best score: 0.762\n",
      "Metric valid/accuracy improved by 0.002 >= min_delta = 0.0. New best score: 0.764\n",
      "Monitored metric valid/accuracy did not improve in the last 30 records. Best score: 0.764. Signaling Trainer to stop.\n"
     ]
    },
    {
     "data": {
      "text/html": [
       "<pre style=\"white-space:pre;overflow-x:auto;line-height:normal;font-family:Menlo,'DejaVu Sans Mono',consolas,'Courier New',monospace\"></pre>\n"
      ],
      "text/plain": []
     },
     "metadata": {},
     "output_type": "display_data"
    },
    {
     "data": {
      "text/html": [
       "<pre style=\"white-space:pre;overflow-x:auto;line-height:normal;font-family:Menlo,'DejaVu Sans Mono',consolas,'Courier New',monospace\">\n",
       "</pre>\n"
      ],
      "text/plain": [
       "\n"
      ]
     },
     "metadata": {},
     "output_type": "display_data"
    },
    {
     "name": "stderr",
     "output_type": "stream",
     "text": [
      "LOCAL_RANK: 0 - CUDA_VISIBLE_DEVICES: [0]\n"
     ]
    },
    {
     "data": {
      "application/vnd.jupyter.widget-view+json": {
       "model_id": "cc60dd053a834fe49255beffe41b91a7",
       "version_major": 2,
       "version_minor": 0
      },
      "text/plain": [
       "Output()"
      ]
     },
     "metadata": {},
     "output_type": "display_data"
    },
    {
     "data": {
      "text/html": [
       "<pre style=\"white-space:pre;overflow-x:auto;line-height:normal;font-family:Menlo,'DejaVu Sans Mono',consolas,'Courier New',monospace\"></pre>\n"
      ],
      "text/plain": []
     },
     "metadata": {},
     "output_type": "display_data"
    },
    {
     "data": {
      "text/html": [
       "<pre style=\"white-space:pre;overflow-x:auto;line-height:normal;font-family:Menlo,'DejaVu Sans Mono',consolas,'Courier New',monospace\">\n",
       "</pre>\n"
      ],
      "text/plain": [
       "\n"
      ]
     },
     "metadata": {},
     "output_type": "display_data"
    },
    {
     "name": "stdout",
     "output_type": "stream",
     "text": [
      "tensor([[-0.8000, -1.1534, -2.4853,  ...,  4.0224, -2.0878, -1.1865],\n",
      "        [-0.4220, -1.8924, -2.2138,  ...,  3.7749, -2.1546, -0.7663],\n",
      "        [-0.5933, -1.3474, -2.3761,  ...,  3.9435, -2.4111, -0.7804],\n",
      "        ...,\n",
      "        [ 0.7434, -1.4427, -0.7403,  ...,  0.8430, -1.0685, -1.8600],\n",
      "        [-2.2793, -0.6009, -1.3736,  ..., -1.2937,  0.8173, -2.8112],\n",
      "        [-1.1879, -0.5219, -1.2123,  ..., -1.2102,  0.3441, -3.1043]])\n",
      "tensor([4, 4, 4,  ..., 4, 3, 3])\n"
     ]
    }
   ],
   "source": [
    "\n",
    "\n",
    "\n",
    "######################################################################\n",
    "# More customization\n",
    "# ------------------\n",
    "# \n",
    "# In DGL, we provide many built-in message and reduce functions under the\n",
    "# ``dgl.function`` package. You can find more details in :ref:`the API\n",
    "# doc <apifunction>`.\n",
    "# \n",
    "\n",
    "\n",
    "######################################################################\n",
    "# These APIs allow one to quickly implement new graph convolution modules.\n",
    "# For example, the following implements a new ``SAGEConv`` that aggregates\n",
    "# neighbor representations using a weighted average. Note that ``edata``\n",
    "# member can hold edge features which can also take part in message\n",
    "# passing.\n",
    "# \n",
    "\n",
    "class WeightedSAGEConv(nn.Module):\n",
    "    \"\"\"Graph convolution module used by the GraphSAGE model with edge weights.\n",
    "    \n",
    "    Parameters\n",
    "    ----------\n",
    "    in_feat : int\n",
    "        Input feature size.\n",
    "    out_feat : int\n",
    "        Output feature size.\n",
    "    \"\"\"\n",
    "    def __init__(self, in_feat, out_feat):\n",
    "        super(WeightedSAGEConv, self).__init__()\n",
    "        # A linear submodule for projecting the input and neighbor feature to the output.\n",
    "        self.linear = nn.Linear(in_feat * 2, out_feat)\n",
    "    \n",
    "    def forward(self, g, h, w):\n",
    "        \"\"\"Forward computation\n",
    "        \n",
    "        Parameters\n",
    "        ----------\n",
    "        g : Graph\n",
    "            The input graph.\n",
    "        h : Tensor\n",
    "            The input node feature.\n",
    "        w : Tensor\n",
    "            The edge weight.\n",
    "        \"\"\"\n",
    "        with g.local_scope():\n",
    "            g.ndata['h'] = h\n",
    "            g.edata['w'] = w\n",
    "            g.update_all(message_func=fn.u_mul_e('h', 'w', 'm'), reduce_func=fn.mean('m', 'h_N'))\n",
    "            h_N = g.ndata['h_N']\n",
    "            h_total = torch.cat([h, h_N], dim=1)\n",
    "            return self.linear(h_total)\n",
    "\n",
    "\n",
    "######################################################################\n",
    "# Because the graph in this dataset does not have edge weights, we\n",
    "# manually assign all edge weights to one in the ``forward()`` function of\n",
    "# the model. You can replace it with your own edge weights.\n",
    "# \n",
    "\n",
    "class AnotherModel(nn.Module):\n",
    "    def __init__(self, in_feats, h_feats, num_classes):\n",
    "        super(AnotherModel, self).__init__()\n",
    "        self.conv1 = WeightedSAGEConv(in_feats, h_feats)\n",
    "        self.conv2 = WeightedSAGEConv(h_feats, num_classes)\n",
    "    \n",
    "    def forward(self, g, in_feat):\n",
    "        h = self.conv1(g, in_feat, torch.ones(g.num_edges(), 1).to(g.device))\n",
    "        h = F.relu(h)\n",
    "        h = self.conv2(g, h, torch.ones(g.num_edges(), 1).to(g.device))\n",
    "        return h\n",
    "    \n",
    "gloader = DataLoader([g],batch_size=None) # use \"[g]\" instead of \"g\" \n",
    "loader_for_valid = DataLoader([0],batch_size=None) ## use an empty daloader to enable validation_step of lightning model\n",
    "\n",
    "weightsagemodel = CustomSage(AnotherModel(g.ndata['feat'].shape[1], 16, dataset.num_classes))\n",
    "\n",
    "trainer = pl.Trainer(\n",
    "    fast_dev_run=False,\n",
    "    max_epochs=100,\n",
    "    gpus=1,\n",
    "    precision=32,\n",
    "    check_val_every_n_epoch=1,\n",
    "    val_check_interval=1.0,\n",
    "    num_sanity_val_steps=0,\n",
    "    callbacks=[\n",
    "               \n",
    "    ModelCheckpoint(dirpath=os.getcwd(),filename=f'Graphsage_DGL_' + '{valid/accuracy:.6f}',monitor='valid/accuracy',mode='max',save_weights_only=False), \\\n",
    "    LearningRateMonitor(logging_interval='step'),EarlyStopping(monitor='valid/accuracy',min_delta=0.00,patience=30,verbose=True,mode='max',check_on_train_epoch_end=False),RichProgressBar()],\n",
    "    logger=TensorBoardLogger(\n",
    "    save_dir=os.getcwd(),\n",
    "    version=1,\n",
    "    name='Graphsage_by_DGL'\n",
    ")\n",
    "  )\n",
    "\n",
    "\n",
    "trainer.fit(weightsagemodel, gloader , loader_for_valid)\n",
    "\n",
    "\n",
    "preds = trainer.predict(weightsagemodel,gloader)\n",
    "print(preds[0])\n",
    "print(preds[0].argmax(1))\n",
    "\n"
   ]
  },
  {
   "cell_type": "code",
   "execution_count": 6,
   "metadata": {
    "id": "5WDGWXFGiN-3"
   },
   "outputs": [],
   "source": [
    "\n",
    "######################################################################\n",
    "# Even more customization by user-defined function\n",
    "# ------------------------------------------------\n",
    "# \n",
    "# DGL allows user-defined message and reduce function for the maximal\n",
    "# expressiveness. Here is a user-defined message function that is\n",
    "# equivalent to ``fn.u_mul_e('h', 'w', 'm')``.\n",
    "# \n",
    "\n",
    "def u_mul_e_udf(edges):\n",
    "    return {'m' : edges.src['h'] * edges.data['w']}\n",
    "\n",
    "\n",
    "######################################################################\n",
    "# ``edges`` has three members: ``src``, ``data`` and ``dst``, representing\n",
    "# the source node feature, edge feature, and destination node feature for\n",
    "# all edges.\n",
    "# \n",
    "\n",
    "\n",
    "######################################################################\n",
    "# You can also write your own reduce function. For example, the following\n",
    "# is equivalent to the builtin ``fn.mean('m', 'h_N')`` function that averages\n",
    "# the incoming messages:\n",
    "# \n",
    "\n",
    "def mean_udf(nodes):\n",
    "    return {'h_N': nodes.mailbox['m'].mean(1)}\n",
    "\n",
    "\n",
    "######################################################################\n",
    "# In short, DGL will group the nodes by their in-degrees, and for each\n",
    "# group DGL stacks the incoming messages along the second dimension. You \n",
    "# can then perform a reduction along the second dimension to aggregate\n",
    "# messages.\n",
    "# \n",
    "# For more details on customizing message and reduce function with\n",
    "# user-defined function, please refer to the :ref:`API\n",
    "# reference <apiudf>`.\n",
    "# \n",
    "\n",
    "\n",
    "######################################################################\n",
    "# Best practice of writing custom GNN modules\n",
    "# -------------------------------------------\n",
    "# \n",
    "# DGL recommends the following practice ranked by preference:\n",
    "# \n",
    "# -  Use ``dgl.nn`` modules.\n",
    "# -  Use ``dgl.nn.functional`` functions which contain lower-level complex\n",
    "#    operations such as computing a softmax for each node over incoming\n",
    "#    edges.\n",
    "# -  Use ``update_all`` with builtin message and reduce functions.\n",
    "# -  Use user-defined message or reduce functions.\n",
    "# \n",
    "\n",
    "\n",
    "######################################################################\n",
    "# What’s next?\n",
    "# ------------\n",
    "# \n",
    "# -  :ref:`Writing Efficient Message Passing\n",
    "#    Code <guide-message-passing-efficient>`.\n",
    "# \n",
    "\n",
    "\n",
    "# Thumbnail credits: Representation Learning on Networks, Jure Leskovec, WWW 2018\n",
    "# sphinx_gallery_thumbnail_path = '_static/blitz_3_message_passing.png'\n"
   ]
  },
  {
   "cell_type": "code",
   "execution_count": 7,
   "metadata": {
    "id": "i8J0zzi5kcZl"
   },
   "outputs": [],
   "source": [
    "######################################################################\n",
    "# A more complex example\n"
   ]
  },
  {
   "cell_type": "code",
   "execution_count": null,
   "metadata": {
    "id": "ODP6IzWmx6DV"
   },
   "outputs": [],
   "source": []
  },
  {
   "cell_type": "code",
   "execution_count": null,
   "metadata": {
    "id": "YbjGTPS-x6FO"
   },
   "outputs": [],
   "source": []
  }
 ],
 "metadata": {
  "accelerator": "GPU",
  "colab": {
   "collapsed_sections": [],
   "machine_shape": "hm",
   "name": "dgl官方教程的完整实现by lightning.ipynb",
   "provenance": []
  },
  "kernelspec": {
   "display_name": "Python 3",
   "language": "python",
   "name": "python3"
  },
  "language_info": {
   "codemirror_mode": {
    "name": "ipython",
    "version": 3
   },
   "file_extension": ".py",
   "mimetype": "text/x-python",
   "name": "python",
   "nbconvert_exporter": "python",
   "pygments_lexer": "ipython3",
   "version": "3.8.8"
  },
  "toc": {
   "base_numbering": 1,
   "nav_menu": {},
   "number_sections": true,
   "sideBar": true,
   "skip_h1_title": false,
   "title_cell": "Table of Contents",
   "title_sidebar": "Contents",
   "toc_cell": false,
   "toc_position": {},
   "toc_section_display": true,
   "toc_window_display": false
  },
  "widgets": {
   "application/vnd.jupyter.widget-state+json": {
    "3fafd42f25b4404ba909f9dbddc7d869": {
     "model_module": "@jupyter-widgets/output",
     "model_module_version": "1.0.0",
     "model_name": "OutputModel",
     "state": {
      "_dom_classes": [],
      "_model_module": "@jupyter-widgets/output",
      "_model_module_version": "1.0.0",
      "_model_name": "OutputModel",
      "_view_count": null,
      "_view_module": "@jupyter-widgets/output",
      "_view_module_version": "1.0.0",
      "_view_name": "OutputView",
      "layout": "IPY_MODEL_e317dff6e8384d42b18264ade6343275",
      "msg_id": "",
      "outputs": [
       {
        "data": {
         "text/html": "<pre style=\"white-space:pre;overflow-x:auto;line-height:normal;font-family:Menlo,'DejaVu Sans Mono',consolas,'Courier New',monospace\">Epoch 98  <span style=\"color: #6206e0; text-decoration-color: #6206e0\">━━━━━━━━━━━━━━━━━━━━━━━━</span> <span style=\"color: #000000; text-decoration-color: #000000\">2/2</span> <span style=\"color: #8a8a8a; text-decoration-color: #8a8a8a\">0:00:00 • 0:00:00</span> <span style=\"color: #b2b2b2; text-decoration-color: #b2b2b2\">38.33it/s</span> <span style=\"color: #000000; text-decoration-color: #000000\">loss: 0.0173 v_num: 1     </span>\n                                                                   <span style=\"color: #000000; text-decoration-color: #000000\">train/loss_step: 0.014    </span>\n                                                                   <span style=\"color: #000000; text-decoration-color: #000000\">train/accuracy_step: 1.0  </span>\n                                                                   <span style=\"color: #000000; text-decoration-color: #000000\">valid/accuracy_step: 0.76 </span>\n                                                                   <span style=\"color: #000000; text-decoration-color: #000000\">test/accuracy_step: 0.745 </span>\n                                                                   <span style=\"color: #000000; text-decoration-color: #000000\">valid/accuracy_epoch: 0.76</span>\n                                                                   <span style=\"color: #000000; text-decoration-color: #000000\">test/accuracy_epoch: 0.745</span>\n                                                                   <span style=\"color: #000000; text-decoration-color: #000000\">train/loss_epoch: 0.014   </span>\n                                                                   <span style=\"color: #000000; text-decoration-color: #000000\">train/accuracy_epoch: 1.0 </span>\n</pre>\n",
         "text/plain": "Epoch 98  \u001b[38;2;98;6;224m━━━━━━━━━━━━━━━━━━━━━━━━\u001b[0m \u001b[30m2/2\u001b[0m \u001b[38;5;245m0:00:00 • 0:00:00\u001b[0m \u001b[38;5;249m38.33it/s\u001b[0m \u001b[30mloss: 0.0173 v_num: 1     \u001b[0m\n                                                                   \u001b[30mtrain/loss_step: 0.014    \u001b[0m\n                                                                   \u001b[30mtrain/accuracy_step: 1.0  \u001b[0m\n                                                                   \u001b[30mvalid/accuracy_step: 0.76 \u001b[0m\n                                                                   \u001b[30mtest/accuracy_step: 0.745 \u001b[0m\n                                                                   \u001b[30mvalid/accuracy_epoch: 0.76\u001b[0m\n                                                                   \u001b[30mtest/accuracy_epoch: 0.745\u001b[0m\n                                                                   \u001b[30mtrain/loss_epoch: 0.014   \u001b[0m\n                                                                   \u001b[30mtrain/accuracy_epoch: 1.0 \u001b[0m\n"
        },
        "metadata": {},
        "output_type": "display_data"
       }
      ]
     }
    },
    "588736e80e4b4521b5cd3ec44868bc22": {
     "model_module": "@jupyter-widgets/output",
     "model_module_version": "1.0.0",
     "model_name": "OutputModel",
     "state": {
      "_dom_classes": [],
      "_model_module": "@jupyter-widgets/output",
      "_model_module_version": "1.0.0",
      "_model_name": "OutputModel",
      "_view_count": null,
      "_view_module": "@jupyter-widgets/output",
      "_view_module_version": "1.0.0",
      "_view_name": "OutputView",
      "layout": "IPY_MODEL_8aa454fc5ba64dcfafa8b3d5930dd067",
      "msg_id": "",
      "outputs": [
       {
        "data": {
         "text/html": "<pre style=\"white-space:pre;overflow-x:auto;line-height:normal;font-family:Menlo,'DejaVu Sans Mono',consolas,'Courier New',monospace\"><span style=\"color: #000000; text-decoration-color: #000000\">Predicting</span> <span style=\"color: #6206e0; text-decoration-color: #6206e0\">━━━━━━━━━━━━━━━━━━━━━━━━━━━━━━━━━━━━━━━━</span> <span style=\"color: #000000; text-decoration-color: #000000\">1/1</span> <span style=\"color: #8a8a8a; text-decoration-color: #8a8a8a\">0:00:00 • 0:00:00</span> <span style=\"color: #b2b2b2; text-decoration-color: #b2b2b2\">0.00it/s</span>  \n</pre>\n",
         "text/plain": "\u001b[30mPredicting\u001b[0m \u001b[38;2;98;6;224m━━━━━━━━━━━━━━━━━━━━━━━━━━━━━━━━━━━━━━━━\u001b[0m \u001b[30m1/1\u001b[0m \u001b[38;5;245m0:00:00 • 0:00:00\u001b[0m \u001b[38;5;249m0.00it/s\u001b[0m  \n"
        },
        "metadata": {},
        "output_type": "display_data"
       }
      ]
     }
    },
    "7270c89355c94fd9ac072a906553f3ee": {
     "model_module": "@jupyter-widgets/base",
     "model_module_version": "1.2.0",
     "model_name": "LayoutModel",
     "state": {
      "_model_module": "@jupyter-widgets/base",
      "_model_module_version": "1.2.0",
      "_model_name": "LayoutModel",
      "_view_count": null,
      "_view_module": "@jupyter-widgets/base",
      "_view_module_version": "1.2.0",
      "_view_name": "LayoutView",
      "align_content": null,
      "align_items": null,
      "align_self": null,
      "border": null,
      "bottom": null,
      "display": null,
      "flex": null,
      "flex_flow": null,
      "grid_area": null,
      "grid_auto_columns": null,
      "grid_auto_flow": null,
      "grid_auto_rows": null,
      "grid_column": null,
      "grid_gap": null,
      "grid_row": null,
      "grid_template_areas": null,
      "grid_template_columns": null,
      "grid_template_rows": null,
      "height": null,
      "justify_content": null,
      "justify_items": null,
      "left": null,
      "margin": null,
      "max_height": null,
      "max_width": null,
      "min_height": null,
      "min_width": null,
      "object_fit": null,
      "object_position": null,
      "order": null,
      "overflow": null,
      "overflow_x": null,
      "overflow_y": null,
      "padding": null,
      "right": null,
      "top": null,
      "visibility": null,
      "width": null
     }
    },
    "8aa454fc5ba64dcfafa8b3d5930dd067": {
     "model_module": "@jupyter-widgets/base",
     "model_module_version": "1.2.0",
     "model_name": "LayoutModel",
     "state": {
      "_model_module": "@jupyter-widgets/base",
      "_model_module_version": "1.2.0",
      "_model_name": "LayoutModel",
      "_view_count": null,
      "_view_module": "@jupyter-widgets/base",
      "_view_module_version": "1.2.0",
      "_view_name": "LayoutView",
      "align_content": null,
      "align_items": null,
      "align_self": null,
      "border": null,
      "bottom": null,
      "display": null,
      "flex": null,
      "flex_flow": null,
      "grid_area": null,
      "grid_auto_columns": null,
      "grid_auto_flow": null,
      "grid_auto_rows": null,
      "grid_column": null,
      "grid_gap": null,
      "grid_row": null,
      "grid_template_areas": null,
      "grid_template_columns": null,
      "grid_template_rows": null,
      "height": null,
      "justify_content": null,
      "justify_items": null,
      "left": null,
      "margin": null,
      "max_height": null,
      "max_width": null,
      "min_height": null,
      "min_width": null,
      "object_fit": null,
      "object_position": null,
      "order": null,
      "overflow": null,
      "overflow_x": null,
      "overflow_y": null,
      "padding": null,
      "right": null,
      "top": null,
      "visibility": null,
      "width": null
     }
    },
    "a10d01d66d914d848e5df4308cfbc3b2": {
     "model_module": "@jupyter-widgets/base",
     "model_module_version": "1.2.0",
     "model_name": "LayoutModel",
     "state": {
      "_model_module": "@jupyter-widgets/base",
      "_model_module_version": "1.2.0",
      "_model_name": "LayoutModel",
      "_view_count": null,
      "_view_module": "@jupyter-widgets/base",
      "_view_module_version": "1.2.0",
      "_view_name": "LayoutView",
      "align_content": null,
      "align_items": null,
      "align_self": null,
      "border": null,
      "bottom": null,
      "display": null,
      "flex": null,
      "flex_flow": null,
      "grid_area": null,
      "grid_auto_columns": null,
      "grid_auto_flow": null,
      "grid_auto_rows": null,
      "grid_column": null,
      "grid_gap": null,
      "grid_row": null,
      "grid_template_areas": null,
      "grid_template_columns": null,
      "grid_template_rows": null,
      "height": null,
      "justify_content": null,
      "justify_items": null,
      "left": null,
      "margin": null,
      "max_height": null,
      "max_width": null,
      "min_height": null,
      "min_width": null,
      "object_fit": null,
      "object_position": null,
      "order": null,
      "overflow": null,
      "overflow_x": null,
      "overflow_y": null,
      "padding": null,
      "right": null,
      "top": null,
      "visibility": null,
      "width": null
     }
    },
    "b2363e589e5b43098c611ab23f293667": {
     "model_module": "@jupyter-widgets/output",
     "model_module_version": "1.0.0",
     "model_name": "OutputModel",
     "state": {
      "_dom_classes": [],
      "_model_module": "@jupyter-widgets/output",
      "_model_module_version": "1.0.0",
      "_model_name": "OutputModel",
      "_view_count": null,
      "_view_module": "@jupyter-widgets/output",
      "_view_module_version": "1.0.0",
      "_view_name": "OutputView",
      "layout": "IPY_MODEL_7270c89355c94fd9ac072a906553f3ee",
      "msg_id": "",
      "outputs": [
       {
        "data": {
         "text/html": "<pre style=\"white-space:pre;overflow-x:auto;line-height:normal;font-family:Menlo,'DejaVu Sans Mono',consolas,'Courier New',monospace\">Epoch 91  <span style=\"color: #6206e0; text-decoration-color: #6206e0\">━━━━━━━━━━━━━━━━━━━━━━━━</span> <span style=\"color: #000000; text-decoration-color: #000000\">2/2</span> <span style=\"color: #8a8a8a; text-decoration-color: #8a8a8a\">0:00:00 • 0:00:00</span> <span style=\"color: #b2b2b2; text-decoration-color: #b2b2b2\">35.83it/s</span> <span style=\"color: #000000; text-decoration-color: #000000\">loss: 0.0248 v_num: 1     </span>\n                                                                   <span style=\"color: #000000; text-decoration-color: #000000\">train/loss_step: 0.019    </span>\n                                                                   <span style=\"color: #000000; text-decoration-color: #000000\">train/accuracy_step: 1.0  </span>\n                                                                   <span style=\"color: #000000; text-decoration-color: #000000\">valid/accuracy_step: 0.742</span>\n                                                                   <span style=\"color: #000000; text-decoration-color: #000000\">test/accuracy_step: 0.759 </span>\n                                                                   <span style=\"color: #000000; text-decoration-color: #000000\">valid/accuracy_epoch:     </span>\n                                                                   <span style=\"color: #000000; text-decoration-color: #000000\">0.742 test/accuracy_epoch:</span>\n                                                                   <span style=\"color: #000000; text-decoration-color: #000000\">0.759 train/loss_epoch:   </span>\n                                                                   <span style=\"color: #000000; text-decoration-color: #000000\">0.019                     </span>\n                                                                   <span style=\"color: #000000; text-decoration-color: #000000\">train/accuracy_epoch: 1.0 </span>\n</pre>\n",
         "text/plain": "Epoch 91  \u001b[38;2;98;6;224m━━━━━━━━━━━━━━━━━━━━━━━━\u001b[0m \u001b[30m2/2\u001b[0m \u001b[38;5;245m0:00:00 • 0:00:00\u001b[0m \u001b[38;5;249m35.83it/s\u001b[0m \u001b[30mloss: 0.0248 v_num: 1     \u001b[0m\n                                                                   \u001b[30mtrain/loss_step: 0.019    \u001b[0m\n                                                                   \u001b[30mtrain/accuracy_step: 1.0  \u001b[0m\n                                                                   \u001b[30mvalid/accuracy_step: 0.742\u001b[0m\n                                                                   \u001b[30mtest/accuracy_step: 0.759 \u001b[0m\n                                                                   \u001b[30mvalid/accuracy_epoch:     \u001b[0m\n                                                                   \u001b[30m0.742 test/accuracy_epoch:\u001b[0m\n                                                                   \u001b[30m0.759 train/loss_epoch:   \u001b[0m\n                                                                   \u001b[30m0.019                     \u001b[0m\n                                                                   \u001b[30mtrain/accuracy_epoch: 1.0 \u001b[0m\n"
        },
        "metadata": {},
        "output_type": "display_data"
       }
      ]
     }
    },
    "cc60dd053a834fe49255beffe41b91a7": {
     "model_module": "@jupyter-widgets/output",
     "model_module_version": "1.0.0",
     "model_name": "OutputModel",
     "state": {
      "_dom_classes": [],
      "_model_module": "@jupyter-widgets/output",
      "_model_module_version": "1.0.0",
      "_model_name": "OutputModel",
      "_view_count": null,
      "_view_module": "@jupyter-widgets/output",
      "_view_module_version": "1.0.0",
      "_view_name": "OutputView",
      "layout": "IPY_MODEL_a10d01d66d914d848e5df4308cfbc3b2",
      "msg_id": "",
      "outputs": [
       {
        "data": {
         "text/html": "<pre style=\"white-space:pre;overflow-x:auto;line-height:normal;font-family:Menlo,'DejaVu Sans Mono',consolas,'Courier New',monospace\"><span style=\"color: #000000; text-decoration-color: #000000\">Predicting</span> <span style=\"color: #6206e0; text-decoration-color: #6206e0\">━━━━━━━━━━━━━━━━━━━━━━━━━━━━━━━━━━━━━━━━</span> <span style=\"color: #000000; text-decoration-color: #000000\">1/1</span> <span style=\"color: #8a8a8a; text-decoration-color: #8a8a8a\">0:00:00 • 0:00:00</span> <span style=\"color: #b2b2b2; text-decoration-color: #b2b2b2\">0.00it/s</span>  \n</pre>\n",
         "text/plain": "\u001b[30mPredicting\u001b[0m \u001b[38;2;98;6;224m━━━━━━━━━━━━━━━━━━━━━━━━━━━━━━━━━━━━━━━━\u001b[0m \u001b[30m1/1\u001b[0m \u001b[38;5;245m0:00:00 • 0:00:00\u001b[0m \u001b[38;5;249m0.00it/s\u001b[0m  \n"
        },
        "metadata": {},
        "output_type": "display_data"
       }
      ]
     }
    },
    "e317dff6e8384d42b18264ade6343275": {
     "model_module": "@jupyter-widgets/base",
     "model_module_version": "1.2.0",
     "model_name": "LayoutModel",
     "state": {
      "_model_module": "@jupyter-widgets/base",
      "_model_module_version": "1.2.0",
      "_model_name": "LayoutModel",
      "_view_count": null,
      "_view_module": "@jupyter-widgets/base",
      "_view_module_version": "1.2.0",
      "_view_name": "LayoutView",
      "align_content": null,
      "align_items": null,
      "align_self": null,
      "border": null,
      "bottom": null,
      "display": null,
      "flex": null,
      "flex_flow": null,
      "grid_area": null,
      "grid_auto_columns": null,
      "grid_auto_flow": null,
      "grid_auto_rows": null,
      "grid_column": null,
      "grid_gap": null,
      "grid_row": null,
      "grid_template_areas": null,
      "grid_template_columns": null,
      "grid_template_rows": null,
      "height": null,
      "justify_content": null,
      "justify_items": null,
      "left": null,
      "margin": null,
      "max_height": null,
      "max_width": null,
      "min_height": null,
      "min_width": null,
      "object_fit": null,
      "object_position": null,
      "order": null,
      "overflow": null,
      "overflow_x": null,
      "overflow_y": null,
      "padding": null,
      "right": null,
      "top": null,
      "visibility": null,
      "width": null
     }
    }
   }
  }
 },
 "nbformat": 4,
 "nbformat_minor": 1
}
