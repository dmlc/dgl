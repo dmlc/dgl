{
 "cells": [
  {
   "cell_type": "code",
   "execution_count": 1,
   "metadata": {
    "id": "8vIpGlT-XsVF"
   },
   "outputs": [],
   "source": [
    "# !pip install pytorch-lightning\n",
    "# !pip install torchlayers\n",
    "# !pip install torchmetric\n",
    "# !pip install dgl-cu113 dglgo -f https://data.dgl.ai/wheels/repo.html\n",
    "#!pip install rich --upgrade\n",
    "import pytorch_lightning as pl\n",
    "import torchmetrics\n",
    "import dgl\n",
    "import warnings\n",
    "warnings.filterwarnings('ignore')"
   ]
  },
  {
   "cell_type": "code",
   "execution_count": 2,
   "metadata": {
    "id": "AepTvqXAX2pH"
   },
   "outputs": [],
   "source": [
    "\"\"\"\n",
    "Node Classification with DGL\n",
    "============================\n",
    "GNNs are powerful tools for many machine learning tasks on graphs. In\n",
    "this introductory tutorial, you will learn the basic workflow of using\n",
    "GNNs for node classification, i.e. predicting the category of a node in\n",
    "a graph.\n",
    "By completing this tutorial, you will be able to\n",
    "-  Load a DGL-provided dataset.\n",
    "-  Build a GNN model with DGL-provided neural network modules.\n",
    "-  Train and evaluate a GNN model for node classification on either CPU\n",
    "   or GPU.\n",
    "This tutorial assumes that you have experience in building neural\n",
    "networks with PyTorch.\n",
    "(Time estimate: 13 minutes)\n",
    "\"\"\"\n",
    "\n",
    "import dgl\n",
    "import torch\n",
    "import torch.nn as nn\n",
    "import torch.nn.functional as F"
   ]
  },
  {
   "cell_type": "code",
   "execution_count": 3,
   "metadata": {
    "colab": {
     "base_uri": "https://localhost:8080/"
    },
    "id": "DOmjHcIlYFa3",
    "outputId": "6a621162-5d9b-4768-93bd-9f79e19b3656"
   },
   "outputs": [
    {
     "name": "stdout",
     "output_type": "stream",
     "text": [
      "  NumNodes: 2708\n",
      "  NumEdges: 10556\n",
      "  NumFeats: 1433\n",
      "  NumClasses: 7\n",
      "  NumTrainingSamples: 140\n",
      "  NumValidationSamples: 500\n",
      "  NumTestSamples: 1000\n",
      "Done loading data from cached files.\n",
      "Number of categories: 7\n"
     ]
    }
   ],
   "source": [
    "######################################################################\n",
    "# Overview of Node Classification with GNN\n",
    "# ----------------------------------------\n",
    "#\n",
    "# One of the most popular and widely adopted tasks on graph data is node\n",
    "# classification, where a model needs to predict the ground truth category\n",
    "# of each node. Before graph neural networks, many proposed methods are\n",
    "# using either connectivity alone (such as DeepWalk or node2vec), or simple\n",
    "# combinations of connectivity and the node's own features.  GNNs, by\n",
    "# contrast, offers an opportunity to obtain node representations by\n",
    "# combining the connectivity and features of a *local neighborhood*.\n",
    "#\n",
    "# `Kipf et\n",
    "# al., <https://arxiv.org/abs/1609.02907>`__ is an example that formulates\n",
    "# the node classification problem as a semi-supervised node classification\n",
    "# task. With the help of only a small portion of labeled nodes, a graph\n",
    "# neural network (GNN) can accurately predict the node category of the\n",
    "# others.\n",
    "# \n",
    "# This tutorial will show how to build such a GNN for semi-supervised node\n",
    "# classification with only a small number of labels on the Cora\n",
    "# dataset,\n",
    "# a citation network with papers as nodes and citations as edges. The task\n",
    "# is to predict the category of a given paper. Each paper node contains a\n",
    "# word count vector as its features, normalized so that they sum up to one,\n",
    "# as described in Section 5.2 of\n",
    "# `the paper <https://arxiv.org/abs/1609.02907>`__.\n",
    "# \n",
    "# Loading Cora Dataset\n",
    "# --------------------\n",
    "# \n",
    "\n",
    "import dgl.data\n",
    "\n",
    "dataset = dgl.data.CoraGraphDataset()\n",
    "print('Number of categories:', dataset.num_classes)\n",
    "\n"
   ]
  },
  {
   "cell_type": "code",
   "execution_count": 4,
   "metadata": {
    "colab": {
     "base_uri": "https://localhost:8080/"
    },
    "id": "VB9I9gY2YGte",
    "outputId": "56f3a1f1-5087-4952-f4bb-d11a00091198"
   },
   "outputs": [
    {
     "name": "stdout",
     "output_type": "stream",
     "text": [
      "Node features\n",
      "{'feat': tensor([[0.0000, 0.0000, 0.0000,  ..., 0.0000, 0.0000, 0.0000],\n",
      "        [0.0000, 0.0000, 0.0000,  ..., 0.0000, 0.0000, 0.0000],\n",
      "        [0.0000, 0.0000, 0.0000,  ..., 0.0000, 0.0000, 0.0000],\n",
      "        ...,\n",
      "        [0.0000, 0.0000, 0.0000,  ..., 0.0000, 0.0000, 0.0000],\n",
      "        [0.0000, 0.0000, 0.0000,  ..., 0.0000, 0.0000, 0.0000],\n",
      "        [0.0000, 0.0000, 0.0000,  ..., 0.0000, 0.0526, 0.0000]]), 'label': tensor([4, 4, 4,  ..., 4, 3, 3]), 'test_mask': tensor([ True,  True, False,  ..., False, False, False]), 'train_mask': tensor([False, False, False,  ..., False, False, False]), 'val_mask': tensor([False, False,  True,  ..., False, False, False])}\n",
      "Edge features\n",
      "{'__orig__': tensor([  298,  9199,  1153,  ..., 10415,  5255,  6356])}\n"
     ]
    }
   ],
   "source": [
    "\n",
    "######################################################################\n",
    "# A DGL Dataset object may contain one or multiple graphs. The Cora\n",
    "# dataset used in this tutorial only consists of one single graph.\n",
    "# \n",
    "\n",
    "g = dataset[0]\n",
    "\n",
    "\n",
    "######################################################################\n",
    "# A DGL graph can store node features and edge features in two\n",
    "# dictionary-like attributes called ``ndata`` and ``edata``.\n",
    "# In the DGL Cora dataset, the graph contains the following node features:\n",
    "# \n",
    "# - ``train_mask``: A boolean tensor indicating whether the node is in the\n",
    "#   training set.\n",
    "#\n",
    "# - ``val_mask``: A boolean tensor indicating whether the node is in the\n",
    "#   validation set.\n",
    "#\n",
    "# - ``test_mask``: A boolean tensor indicating whether the node is in the\n",
    "#   test set.\n",
    "#\n",
    "# - ``label``: The ground truth node category.\n",
    "#\n",
    "# -  ``feat``: The node features.\n",
    "# \n",
    "print('Node features')\n",
    "print(g.ndata)\n",
    "print('Edge features')\n",
    "print(g.edata)"
   ]
  },
  {
   "cell_type": "code",
   "execution_count": 5,
   "metadata": {
    "id": "sfApo2c3YKIQ"
   },
   "outputs": [],
   "source": [
    "######################################################################\n",
    "# Defining a Graph Convolutional Network (GCN)\n",
    "# --------------------------------------------\n",
    "# \n",
    "# This tutorial will build a two-layer `Graph Convolutional Network\n",
    "# (GCN) <http://tkipf.github.io/graph-convolutional-networks/>`__. Each\n",
    "# layer computes new node representations by aggregating neighbor\n",
    "# information.\n",
    "# \n",
    "# To build a multi-layer GCN you can simply stack ``dgl.nn.GraphConv``\n",
    "# modules, which inherit ``torch.nn.Module``.\n",
    "# "
   ]
  },
  {
   "cell_type": "code",
   "execution_count": 6,
   "metadata": {
    "id": "oA_AmIOWYKK9"
   },
   "outputs": [],
   "source": [
    "from dgl.nn import GraphConv\n",
    "from torch.optim.lr_scheduler import ReduceLROnPlateau\n",
    "\n",
    "class GCN(pl.LightningModule):\n",
    "    def __init__(self, in_feats, h_feats, num_classes):\n",
    "        super(GCN, self).__init__()\n",
    "        self.conv1 = GraphConv(in_feats, h_feats)\n",
    "        self.conv2 = GraphConv(h_feats, num_classes)\n",
    "        self.train_accuracy = torchmetrics.Accuracy()\n",
    "        self.val_accuracy = torchmetrics.Accuracy()\n",
    "        self.test_accuracy = torchmetrics.Accuracy()\n",
    "    \n",
    "    def forward(self, g, in_feat):\n",
    "        h = self.conv1(g, in_feat)\n",
    "        h = F.relu(h)\n",
    "        h = self.conv2(g, h)\n",
    "        return h\n",
    "    def training_step(self,batch,batch_idx):\n",
    "      g = batch\n",
    "      features = g.ndata['feat']\n",
    "      labels = g.ndata['label']\n",
    "      train_mask = g.ndata['train_mask']\n",
    "      val_mask = g.ndata['val_mask']\n",
    "      test_mask = g.ndata['test_mask']\n",
    "      # Forward\n",
    "      logits = self(g, features)\n",
    "\n",
    "      # Compute prediction\n",
    "      pred = logits.argmax(1)\n",
    "\n",
    "      # Compute loss\n",
    "      # Note that you should only compute the losses of the nodes in the training set.\n",
    "      loss = F.cross_entropy(logits[train_mask], labels[train_mask])\n",
    "\n",
    "      \n",
    "      # Compute accuracy on training/validation/test\n",
    "      self.train_accuracy(pred[train_mask],labels[train_mask])\n",
    "      self.val_accuracy(pred[val_mask],labels[val_mask])\n",
    "      self.test_accuracy(pred[test_mask],labels[test_mask])\n",
    "      self.log_dict({'train/loss':loss,'train/accuracy':self.train_accuracy},prog_bar=True,on_step=True,on_epoch=True,batch_size=1) # set the batch_size =1\n",
    "      return loss\n",
    "\n",
    "    def validation_step(self,batch,batch_idx):\n",
    "        self.log_dict({'valid/accuracy':self.val_accuracy,'test/accuracy':self.test_accuracy},prog_bar=True,on_step=True,on_epoch=True,batch_size=1) \n",
    "\n",
    "    def predict_step(self,batch,batch_idx):\n",
    "      g = batch\n",
    "      features = g.ndata['feat']\n",
    "      # Forward\n",
    "      logits = self(g, features)\n",
    "      return logits\n",
    "\n",
    "    def configure_optimizers(self):\n",
    "        optimizer = torch.optim.Adam(self.parameters(),lr=1e-2,weight_decay=1e-7)\n",
    "        lr_scheduler = {\n",
    "            \"scheduler\": ReduceLROnPlateau(\n",
    "                optimizer,\n",
    "                mode='min',\n",
    "                factor=0.9,\n",
    "                patience=15,\n",
    "                min_lr=1e-3\n",
    "            ),\n",
    "            \"interval\": \"epoch\",\n",
    "            \"frequency\": 1,\n",
    "            \"monitor\": \"valid/accuracy_epoch\",\n",
    "            \"strict\": True,\n",
    "            \"name\": \"Learning Rate\",\n",
    "        }\n",
    "        return [optimizer], [lr_scheduler]\n"
   ]
  },
  {
   "cell_type": "code",
   "execution_count": 7,
   "metadata": {
    "colab": {
     "base_uri": "https://localhost:8080/",
     "height": 104
    },
    "id": "HzneUIPOcYuF",
    "outputId": "add32689-4c1f-42fc-a819-1a144a3a4518"
   },
   "outputs": [
    {
     "name": "stderr",
     "output_type": "stream",
     "text": [
      "GPU available: True, used: True\n",
      "TPU available: False, using: 0 TPU cores\n",
      "IPU available: False, using: 0 IPUs\n",
      "HPU available: False, using: 0 HPUs\n",
      "`Trainer(val_check_interval=1.0)` was configured so validation will run at the end of the training epoch..\n"
     ]
    }
   ],
   "source": [
    "import os\n",
    "from pytorch_lightning.loggers.tensorboard import TensorBoardLogger\n",
    "from pytorch_lightning.callbacks import RichProgressBar,ModelCheckpoint,EarlyStopping,LearningRateMonitor\n",
    "\n",
    "checkpoint_callback = ModelCheckpoint(\n",
    "    dirpath=os.getcwd(),\n",
    "    filename=f'GCN_DGL_' + '{valid/accuracy:.6f}',\n",
    "    monitor='valid/accuracy',\n",
    "    mode='max',\n",
    "    save_weights_only=False)\n",
    "\n",
    "logger = TensorBoardLogger(\n",
    "    save_dir=os.getcwd(),\n",
    "    version=1,\n",
    "    name='GCN_by_DGL'\n",
    ")\n",
    "\n",
    "early_stop_callback = EarlyStopping(\n",
    "    monitor='valid/accuracy',\n",
    "    min_delta=0.00,\n",
    "    patience=15,\n",
    "    verbose=True,\n",
    "    mode='max',check_on_train_epoch_end=False, ##remember to disable check_on_train_epoch_end\n",
    ")\n",
    "\n",
    "lr_monitor = LearningRateMonitor(\n",
    "    logging_interval='step'\n",
    ")\n",
    "\n",
    "trainer = pl.Trainer(\n",
    "    fast_dev_run=False,\n",
    "    max_epochs=100,\n",
    "    gpus=1,\n",
    "    precision=32,\n",
    "    check_val_every_n_epoch=1,\n",
    "    val_check_interval=1.0,\n",
    "    num_sanity_val_steps=0,\n",
    "    callbacks=[checkpoint_callback, lr_monitor, early_stop_callback,RichProgressBar()],\n",
    "    logger=logger\n",
    "  )"
   ]
  },
  {
   "cell_type": "code",
   "execution_count": 8,
   "metadata": {
    "id": "z72tw9mYdUo3"
   },
   "outputs": [],
   "source": [
    "from torch.utils.data import DataLoader\n",
    "gloader = DataLoader([g],batch_size=None) # use \"[g]\" instead of \"g\" \n",
    "model = GCN(g.ndata['feat'].shape[1], 16, dataset.num_classes)\n",
    "loader_for_valid = DataLoader([0],batch_size=None) ## use an empty daloader to enable validation_step of lightning model"
   ]
  },
  {
   "cell_type": "code",
   "execution_count": 9,
   "metadata": {
    "colab": {
     "base_uri": "https://localhost:8080/",
     "height": 1000,
     "referenced_widgets": [
      "f017fc3d59c04e47b5c52b0aeab81b11",
      "209c3bc684304b5ab70a888cb13dff10"
     ]
    },
    "id": "UTbso9UIdqBs",
    "outputId": "8c3fe78e-20bf-4ae2-88b2-7ab92f4992bb"
   },
   "outputs": [
    {
     "name": "stderr",
     "output_type": "stream",
     "text": [
      "LOCAL_RANK: 0 - CUDA_VISIBLE_DEVICES: [0]\n"
     ]
    },
    {
     "data": {
      "text/html": [
       "<pre style=\"white-space:pre;overflow-x:auto;line-height:normal;font-family:Menlo,'DejaVu Sans Mono',consolas,'Courier New',monospace\">┏━━━┳━━━━━━━━━━━━━━━━┳━━━━━━━━━━━┳━━━━━━━━┓\n",
       "┃<span style=\"color: #800080; text-decoration-color: #800080; font-weight: bold\">   </span>┃<span style=\"color: #800080; text-decoration-color: #800080; font-weight: bold\"> Name           </span>┃<span style=\"color: #800080; text-decoration-color: #800080; font-weight: bold\"> Type      </span>┃<span style=\"color: #800080; text-decoration-color: #800080; font-weight: bold\"> Params </span>┃\n",
       "┡━━━╇━━━━━━━━━━━━━━━━╇━━━━━━━━━━━╇━━━━━━━━┩\n",
       "│<span style=\"color: #7f7f7f; text-decoration-color: #7f7f7f\"> 0 </span>│ conv1          │ GraphConv │ 22.9 K │\n",
       "│<span style=\"color: #7f7f7f; text-decoration-color: #7f7f7f\"> 1 </span>│ conv2          │ GraphConv │    119 │\n",
       "│<span style=\"color: #7f7f7f; text-decoration-color: #7f7f7f\"> 2 </span>│ train_accuracy │ Accuracy  │      0 │\n",
       "│<span style=\"color: #7f7f7f; text-decoration-color: #7f7f7f\"> 3 </span>│ val_accuracy   │ Accuracy  │      0 │\n",
       "│<span style=\"color: #7f7f7f; text-decoration-color: #7f7f7f\"> 4 </span>│ test_accuracy  │ Accuracy  │      0 │\n",
       "└───┴────────────────┴───────────┴────────┘\n",
       "</pre>\n"
      ],
      "text/plain": [
       "┏━━━┳━━━━━━━━━━━━━━━━┳━━━━━━━━━━━┳━━━━━━━━┓\n",
       "┃\u001b[1;35m \u001b[0m\u001b[1;35m \u001b[0m\u001b[1;35m \u001b[0m┃\u001b[1;35m \u001b[0m\u001b[1;35mName          \u001b[0m\u001b[1;35m \u001b[0m┃\u001b[1;35m \u001b[0m\u001b[1;35mType     \u001b[0m\u001b[1;35m \u001b[0m┃\u001b[1;35m \u001b[0m\u001b[1;35mParams\u001b[0m\u001b[1;35m \u001b[0m┃\n",
       "┡━━━╇━━━━━━━━━━━━━━━━╇━━━━━━━━━━━╇━━━━━━━━┩\n",
       "│\u001b[2m \u001b[0m\u001b[2m0\u001b[0m\u001b[2m \u001b[0m│ conv1          │ GraphConv │ 22.9 K │\n",
       "│\u001b[2m \u001b[0m\u001b[2m1\u001b[0m\u001b[2m \u001b[0m│ conv2          │ GraphConv │    119 │\n",
       "│\u001b[2m \u001b[0m\u001b[2m2\u001b[0m\u001b[2m \u001b[0m│ train_accuracy │ Accuracy  │      0 │\n",
       "│\u001b[2m \u001b[0m\u001b[2m3\u001b[0m\u001b[2m \u001b[0m│ val_accuracy   │ Accuracy  │      0 │\n",
       "│\u001b[2m \u001b[0m\u001b[2m4\u001b[0m\u001b[2m \u001b[0m│ test_accuracy  │ Accuracy  │      0 │\n",
       "└───┴────────────────┴───────────┴────────┘\n"
      ]
     },
     "metadata": {},
     "output_type": "display_data"
    },
    {
     "data": {
      "text/html": [
       "<pre style=\"white-space:pre;overflow-x:auto;line-height:normal;font-family:Menlo,'DejaVu Sans Mono',consolas,'Courier New',monospace\"><span style=\"font-weight: bold\">Trainable params</span>: 23.1 K                                                                     \n",
       "<span style=\"font-weight: bold\">Non-trainable params</span>: 0                                                                      \n",
       "<span style=\"font-weight: bold\">Total params</span>: 23.1 K                                                                         \n",
       "<span style=\"font-weight: bold\">Total estimated model params size (MB)</span>: 0                                                    \n",
       "</pre>\n"
      ],
      "text/plain": [
       "\u001b[1mTrainable params\u001b[0m: 23.1 K                                                                     \n",
       "\u001b[1mNon-trainable params\u001b[0m: 0                                                                      \n",
       "\u001b[1mTotal params\u001b[0m: 23.1 K                                                                         \n",
       "\u001b[1mTotal estimated model params size (MB)\u001b[0m: 0                                                    \n"
      ]
     },
     "metadata": {},
     "output_type": "display_data"
    },
    {
     "data": {
      "application/vnd.jupyter.widget-view+json": {
       "model_id": "f017fc3d59c04e47b5c52b0aeab81b11",
       "version_major": 2,
       "version_minor": 0
      },
      "text/plain": [
       "Output()"
      ]
     },
     "metadata": {},
     "output_type": "display_data"
    },
    {
     "name": "stderr",
     "output_type": "stream",
     "text": [
      "Metric valid/accuracy improved. New best score: 0.116\n",
      "Metric valid/accuracy improved by 0.214 >= min_delta = 0.0. New best score: 0.330\n",
      "Metric valid/accuracy improved by 0.084 >= min_delta = 0.0. New best score: 0.414\n",
      "Metric valid/accuracy improved by 0.102 >= min_delta = 0.0. New best score: 0.516\n",
      "Metric valid/accuracy improved by 0.010 >= min_delta = 0.0. New best score: 0.526\n",
      "Metric valid/accuracy improved by 0.012 >= min_delta = 0.0. New best score: 0.538\n",
      "Metric valid/accuracy improved by 0.002 >= min_delta = 0.0. New best score: 0.540\n",
      "Metric valid/accuracy improved by 0.006 >= min_delta = 0.0. New best score: 0.546\n",
      "Metric valid/accuracy improved by 0.018 >= min_delta = 0.0. New best score: 0.564\n",
      "Metric valid/accuracy improved by 0.018 >= min_delta = 0.0. New best score: 0.582\n",
      "Metric valid/accuracy improved by 0.002 >= min_delta = 0.0. New best score: 0.584\n",
      "Metric valid/accuracy improved by 0.008 >= min_delta = 0.0. New best score: 0.592\n",
      "Metric valid/accuracy improved by 0.006 >= min_delta = 0.0. New best score: 0.598\n",
      "Metric valid/accuracy improved by 0.004 >= min_delta = 0.0. New best score: 0.602\n",
      "Metric valid/accuracy improved by 0.004 >= min_delta = 0.0. New best score: 0.606\n",
      "Metric valid/accuracy improved by 0.008 >= min_delta = 0.0. New best score: 0.614\n",
      "Metric valid/accuracy improved by 0.002 >= min_delta = 0.0. New best score: 0.616\n",
      "Metric valid/accuracy improved by 0.006 >= min_delta = 0.0. New best score: 0.622\n",
      "Metric valid/accuracy improved by 0.006 >= min_delta = 0.0. New best score: 0.628\n",
      "Metric valid/accuracy improved by 0.002 >= min_delta = 0.0. New best score: 0.630\n",
      "Metric valid/accuracy improved by 0.002 >= min_delta = 0.0. New best score: 0.632\n",
      "Metric valid/accuracy improved by 0.008 >= min_delta = 0.0. New best score: 0.640\n",
      "Metric valid/accuracy improved by 0.008 >= min_delta = 0.0. New best score: 0.648\n",
      "Metric valid/accuracy improved by 0.008 >= min_delta = 0.0. New best score: 0.656\n",
      "Metric valid/accuracy improved by 0.004 >= min_delta = 0.0. New best score: 0.660\n",
      "Metric valid/accuracy improved by 0.004 >= min_delta = 0.0. New best score: 0.664\n",
      "Metric valid/accuracy improved by 0.004 >= min_delta = 0.0. New best score: 0.668\n",
      "Metric valid/accuracy improved by 0.002 >= min_delta = 0.0. New best score: 0.670\n",
      "Metric valid/accuracy improved by 0.006 >= min_delta = 0.0. New best score: 0.676\n",
      "Metric valid/accuracy improved by 0.004 >= min_delta = 0.0. New best score: 0.680\n",
      "Metric valid/accuracy improved by 0.002 >= min_delta = 0.0. New best score: 0.682\n",
      "Metric valid/accuracy improved by 0.004 >= min_delta = 0.0. New best score: 0.686\n",
      "Metric valid/accuracy improved by 0.002 >= min_delta = 0.0. New best score: 0.688\n",
      "Metric valid/accuracy improved by 0.002 >= min_delta = 0.0. New best score: 0.690\n",
      "Metric valid/accuracy improved by 0.004 >= min_delta = 0.0. New best score: 0.694\n",
      "Metric valid/accuracy improved by 0.006 >= min_delta = 0.0. New best score: 0.700\n",
      "Metric valid/accuracy improved by 0.006 >= min_delta = 0.0. New best score: 0.706\n",
      "Metric valid/accuracy improved by 0.004 >= min_delta = 0.0. New best score: 0.710\n",
      "Metric valid/accuracy improved by 0.002 >= min_delta = 0.0. New best score: 0.712\n",
      "Metric valid/accuracy improved by 0.002 >= min_delta = 0.0. New best score: 0.714\n",
      "Metric valid/accuracy improved by 0.002 >= min_delta = 0.0. New best score: 0.716\n",
      "Metric valid/accuracy improved by 0.008 >= min_delta = 0.0. New best score: 0.724\n",
      "Metric valid/accuracy improved by 0.002 >= min_delta = 0.0. New best score: 0.726\n",
      "Metric valid/accuracy improved by 0.006 >= min_delta = 0.0. New best score: 0.732\n",
      "Metric valid/accuracy improved by 0.002 >= min_delta = 0.0. New best score: 0.734\n",
      "Metric valid/accuracy improved by 0.002 >= min_delta = 0.0. New best score: 0.736\n",
      "Metric valid/accuracy improved by 0.002 >= min_delta = 0.0. New best score: 0.738\n",
      "Metric valid/accuracy improved by 0.002 >= min_delta = 0.0. New best score: 0.740\n",
      "Metric valid/accuracy improved by 0.002 >= min_delta = 0.0. New best score: 0.742\n",
      "Metric valid/accuracy improved by 0.002 >= min_delta = 0.0. New best score: 0.744\n",
      "Metric valid/accuracy improved by 0.002 >= min_delta = 0.0. New best score: 0.746\n",
      "Metric valid/accuracy improved by 0.002 >= min_delta = 0.0. New best score: 0.748\n",
      "Metric valid/accuracy improved by 0.002 >= min_delta = 0.0. New best score: 0.750\n",
      "Metric valid/accuracy improved by 0.002 >= min_delta = 0.0. New best score: 0.752\n",
      "Metric valid/accuracy improved by 0.002 >= min_delta = 0.0. New best score: 0.754\n",
      "Metric valid/accuracy improved by 0.002 >= min_delta = 0.0. New best score: 0.756\n",
      "Metric valid/accuracy improved by 0.002 >= min_delta = 0.0. New best score: 0.758\n",
      "Metric valid/accuracy improved by 0.002 >= min_delta = 0.0. New best score: 0.760\n"
     ]
    },
    {
     "data": {
      "text/html": [
       "<pre style=\"white-space:pre;overflow-x:auto;line-height:normal;font-family:Menlo,'DejaVu Sans Mono',consolas,'Courier New',monospace\"></pre>\n"
      ],
      "text/plain": []
     },
     "metadata": {},
     "output_type": "display_data"
    },
    {
     "data": {
      "text/html": [
       "<pre style=\"white-space:pre;overflow-x:auto;line-height:normal;font-family:Menlo,'DejaVu Sans Mono',consolas,'Courier New',monospace\">\n",
       "</pre>\n"
      ],
      "text/plain": [
       "\n"
      ]
     },
     "metadata": {},
     "output_type": "display_data"
    }
   ],
   "source": [
    "trainer.fit(model, gloader , loader_for_valid)"
   ]
  },
  {
   "cell_type": "code",
   "execution_count": 10,
   "metadata": {
    "colab": {
     "base_uri": "https://localhost:8080/",
     "height": 201,
     "referenced_widgets": [
      "ef238b51d88c48c995daa9264be83f79",
      "28845f9ee58b48189427f2c09a88b6fe"
     ]
    },
    "id": "1ZpQ_rjRhreu",
    "outputId": "6cfee08f-9c97-4913-fa2a-cc0bc0416ec2"
   },
   "outputs": [
    {
     "name": "stderr",
     "output_type": "stream",
     "text": [
      "Restoring states from the checkpoint path at /content/GCN_DGL_valid/accuracy=0.760000.ckpt\n",
      "LOCAL_RANK: 0 - CUDA_VISIBLE_DEVICES: [0]\n",
      "Loaded model weights from checkpoint at /content/GCN_DGL_valid/accuracy=0.760000.ckpt\n"
     ]
    },
    {
     "data": {
      "application/vnd.jupyter.widget-view+json": {
       "model_id": "ef238b51d88c48c995daa9264be83f79",
       "version_major": 2,
       "version_minor": 0
      },
      "text/plain": [
       "Output()"
      ]
     },
     "metadata": {},
     "output_type": "display_data"
    },
    {
     "data": {
      "text/html": [
       "<pre style=\"white-space:pre;overflow-x:auto;line-height:normal;font-family:Menlo,'DejaVu Sans Mono',consolas,'Courier New',monospace\">┏━━━━━━━━━━━━━━━━━━━━━━━━━━━┳━━━━━━━━━━━━━━━━━━━━━━━━━━━┓\n",
       "┃<span style=\"font-weight: bold\">      Validate metric      </span>┃<span style=\"font-weight: bold\">       DataLoader 0        </span>┃\n",
       "┡━━━━━━━━━━━━━━━━━━━━━━━━━━━╇━━━━━━━━━━━━━━━━━━━━━━━━━━━┩\n",
       "│<span style=\"color: #008080; text-decoration-color: #008080\">    test/accuracy_epoch    </span>│<span style=\"color: #800080; text-decoration-color: #800080\">            0.0            </span>│\n",
       "│<span style=\"color: #008080; text-decoration-color: #008080\">   valid/accuracy_epoch    </span>│<span style=\"color: #800080; text-decoration-color: #800080\">            0.0            </span>│\n",
       "└───────────────────────────┴───────────────────────────┘\n",
       "</pre>\n"
      ],
      "text/plain": [
       "┏━━━━━━━━━━━━━━━━━━━━━━━━━━━┳━━━━━━━━━━━━━━━━━━━━━━━━━━━┓\n",
       "┃\u001b[1m \u001b[0m\u001b[1m     Validate metric     \u001b[0m\u001b[1m \u001b[0m┃\u001b[1m \u001b[0m\u001b[1m      DataLoader 0       \u001b[0m\u001b[1m \u001b[0m┃\n",
       "┡━━━━━━━━━━━━━━━━━━━━━━━━━━━╇━━━━━━━━━━━━━━━━━━━━━━━━━━━┩\n",
       "│\u001b[36m \u001b[0m\u001b[36m   test/accuracy_epoch   \u001b[0m\u001b[36m \u001b[0m│\u001b[35m \u001b[0m\u001b[35m           0.0           \u001b[0m\u001b[35m \u001b[0m│\n",
       "│\u001b[36m \u001b[0m\u001b[36m  valid/accuracy_epoch   \u001b[0m\u001b[36m \u001b[0m│\u001b[35m \u001b[0m\u001b[35m           0.0           \u001b[0m\u001b[35m \u001b[0m│\n",
       "└───────────────────────────┴───────────────────────────┘\n"
      ]
     },
     "metadata": {},
     "output_type": "display_data"
    },
    {
     "data": {
      "text/html": [
       "<pre style=\"white-space:pre;overflow-x:auto;line-height:normal;font-family:Menlo,'DejaVu Sans Mono',consolas,'Courier New',monospace\"></pre>\n"
      ],
      "text/plain": []
     },
     "metadata": {},
     "output_type": "display_data"
    },
    {
     "data": {
      "text/html": [
       "<pre style=\"white-space:pre;overflow-x:auto;line-height:normal;font-family:Menlo,'DejaVu Sans Mono',consolas,'Courier New',monospace\">\n",
       "</pre>\n"
      ],
      "text/plain": [
       "\n"
      ]
     },
     "metadata": {},
     "output_type": "display_data"
    },
    {
     "data": {
      "text/plain": [
       "[{'test/accuracy_epoch': 0.0, 'valid/accuracy_epoch': 0.0}]"
      ]
     },
     "execution_count": 10,
     "metadata": {},
     "output_type": "execute_result"
    }
   ],
   "source": [
    "trainer.validate(model, gloader, verbose=True,ckpt_path='best')#to restore best weights easily,we use trainer.validate and because we set the batchsize of dataloader as None,so the validate score may have some errors.we can use prediction step and compute the metrics"
   ]
  },
  {
   "cell_type": "code",
   "execution_count": 11,
   "metadata": {
    "colab": {
     "base_uri": "https://localhost:8080/",
     "height": 190,
     "referenced_widgets": [
      "c82256ecbbfe48378df848288b1f3c5e",
      "c3223f60da214ecb9d8e43619fe3f332"
     ]
    },
    "id": "5WDGWXFGiN-3",
    "outputId": "bd227d95-e961-44d2-f1e9-47ec858809c1"
   },
   "outputs": [
    {
     "name": "stderr",
     "output_type": "stream",
     "text": [
      "LOCAL_RANK: 0 - CUDA_VISIBLE_DEVICES: [0]\n"
     ]
    },
    {
     "data": {
      "application/vnd.jupyter.widget-view+json": {
       "model_id": "c82256ecbbfe48378df848288b1f3c5e",
       "version_major": 2,
       "version_minor": 0
      },
      "text/plain": [
       "Output()"
      ]
     },
     "metadata": {},
     "output_type": "display_data"
    },
    {
     "data": {
      "text/html": [
       "<pre style=\"white-space:pre;overflow-x:auto;line-height:normal;font-family:Menlo,'DejaVu Sans Mono',consolas,'Courier New',monospace\"></pre>\n"
      ],
      "text/plain": []
     },
     "metadata": {},
     "output_type": "display_data"
    },
    {
     "data": {
      "text/html": [
       "<pre style=\"white-space:pre;overflow-x:auto;line-height:normal;font-family:Menlo,'DejaVu Sans Mono',consolas,'Courier New',monospace\">\n",
       "</pre>\n"
      ],
      "text/plain": [
       "\n"
      ]
     },
     "metadata": {},
     "output_type": "display_data"
    },
    {
     "name": "stdout",
     "output_type": "stream",
     "text": [
      "tensor([[ 0.7378, -0.9543,  0.1648,  ...,  3.4618, -1.1093, -0.1241],\n",
      "        [ 0.7513, -1.1883,  0.1382,  ...,  3.2373, -1.1376, -0.0872],\n",
      "        [ 0.7513, -1.1883,  0.1382,  ...,  3.2373, -1.1376, -0.0872],\n",
      "        ...,\n",
      "        [ 0.8967, -0.0406,  0.6851,  ...,  1.0592, -0.6065, -0.4998],\n",
      "        [ 0.3581, -0.6085, -0.3587,  ...,  1.0639,  0.7551,  0.9995],\n",
      "        [ 0.3940, -1.2636,  0.3531,  ...,  1.3252,  0.1979,  0.9274]])\n",
      "tensor([4, 4, 4,  ..., 4, 3, 3])\n"
     ]
    }
   ],
   "source": [
    "preds = trainer.predict(model,gloader)\n",
    "print(preds[0])\n",
    "print(preds[0].argmax(1))"
   ]
  },
  {
   "cell_type": "code",
   "execution_count": null,
   "metadata": {
    "id": "i8J0zzi5kcZl"
   },
   "outputs": [],
   "source": []
  }
 ],
 "metadata": {
  "accelerator": "GPU",
  "colab": {
   "collapsed_sections": [],
   "machine_shape": "hm",
   "name": "dgl官方教程的完整实现by lightning.ipynb",
   "provenance": []
  },
  "kernelspec": {
   "display_name": "Python 3",
   "language": "python",
   "name": "python3"
  },
  "language_info": {
   "codemirror_mode": {
    "name": "ipython",
    "version": 3
   },
   "file_extension": ".py",
   "mimetype": "text/x-python",
   "name": "python",
   "nbconvert_exporter": "python",
   "pygments_lexer": "ipython3",
   "version": "3.8.8"
  },
  "toc": {
   "base_numbering": 1,
   "nav_menu": {},
   "number_sections": true,
   "sideBar": true,
   "skip_h1_title": false,
   "title_cell": "Table of Contents",
   "title_sidebar": "Contents",
   "toc_cell": false,
   "toc_position": {},
   "toc_section_display": true,
   "toc_window_display": false
  },
  "widgets": {
   "application/vnd.jupyter.widget-state+json": {
    "209c3bc684304b5ab70a888cb13dff10": {
     "model_module": "@jupyter-widgets/base",
     "model_module_version": "1.2.0",
     "model_name": "LayoutModel",
     "state": {
      "_model_module": "@jupyter-widgets/base",
      "_model_module_version": "1.2.0",
      "_model_name": "LayoutModel",
      "_view_count": null,
      "_view_module": "@jupyter-widgets/base",
      "_view_module_version": "1.2.0",
      "_view_name": "LayoutView",
      "align_content": null,
      "align_items": null,
      "align_self": null,
      "border": null,
      "bottom": null,
      "display": null,
      "flex": null,
      "flex_flow": null,
      "grid_area": null,
      "grid_auto_columns": null,
      "grid_auto_flow": null,
      "grid_auto_rows": null,
      "grid_column": null,
      "grid_gap": null,
      "grid_row": null,
      "grid_template_areas": null,
      "grid_template_columns": null,
      "grid_template_rows": null,
      "height": null,
      "justify_content": null,
      "justify_items": null,
      "left": null,
      "margin": null,
      "max_height": null,
      "max_width": null,
      "min_height": null,
      "min_width": null,
      "object_fit": null,
      "object_position": null,
      "order": null,
      "overflow": null,
      "overflow_x": null,
      "overflow_y": null,
      "padding": null,
      "right": null,
      "top": null,
      "visibility": null,
      "width": null
     }
    },
    "28845f9ee58b48189427f2c09a88b6fe": {
     "model_module": "@jupyter-widgets/base",
     "model_module_version": "1.2.0",
     "model_name": "LayoutModel",
     "state": {
      "_model_module": "@jupyter-widgets/base",
      "_model_module_version": "1.2.0",
      "_model_name": "LayoutModel",
      "_view_count": null,
      "_view_module": "@jupyter-widgets/base",
      "_view_module_version": "1.2.0",
      "_view_name": "LayoutView",
      "align_content": null,
      "align_items": null,
      "align_self": null,
      "border": null,
      "bottom": null,
      "display": null,
      "flex": null,
      "flex_flow": null,
      "grid_area": null,
      "grid_auto_columns": null,
      "grid_auto_flow": null,
      "grid_auto_rows": null,
      "grid_column": null,
      "grid_gap": null,
      "grid_row": null,
      "grid_template_areas": null,
      "grid_template_columns": null,
      "grid_template_rows": null,
      "height": null,
      "justify_content": null,
      "justify_items": null,
      "left": null,
      "margin": null,
      "max_height": null,
      "max_width": null,
      "min_height": null,
      "min_width": null,
      "object_fit": null,
      "object_position": null,
      "order": null,
      "overflow": null,
      "overflow_x": null,
      "overflow_y": null,
      "padding": null,
      "right": null,
      "top": null,
      "visibility": null,
      "width": null
     }
    },
    "c3223f60da214ecb9d8e43619fe3f332": {
     "model_module": "@jupyter-widgets/base",
     "model_module_version": "1.2.0",
     "model_name": "LayoutModel",
     "state": {
      "_model_module": "@jupyter-widgets/base",
      "_model_module_version": "1.2.0",
      "_model_name": "LayoutModel",
      "_view_count": null,
      "_view_module": "@jupyter-widgets/base",
      "_view_module_version": "1.2.0",
      "_view_name": "LayoutView",
      "align_content": null,
      "align_items": null,
      "align_self": null,
      "border": null,
      "bottom": null,
      "display": null,
      "flex": null,
      "flex_flow": null,
      "grid_area": null,
      "grid_auto_columns": null,
      "grid_auto_flow": null,
      "grid_auto_rows": null,
      "grid_column": null,
      "grid_gap": null,
      "grid_row": null,
      "grid_template_areas": null,
      "grid_template_columns": null,
      "grid_template_rows": null,
      "height": null,
      "justify_content": null,
      "justify_items": null,
      "left": null,
      "margin": null,
      "max_height": null,
      "max_width": null,
      "min_height": null,
      "min_width": null,
      "object_fit": null,
      "object_position": null,
      "order": null,
      "overflow": null,
      "overflow_x": null,
      "overflow_y": null,
      "padding": null,
      "right": null,
      "top": null,
      "visibility": null,
      "width": null
     }
    },
    "c82256ecbbfe48378df848288b1f3c5e": {
     "model_module": "@jupyter-widgets/output",
     "model_module_version": "1.0.0",
     "model_name": "OutputModel",
     "state": {
      "_dom_classes": [],
      "_model_module": "@jupyter-widgets/output",
      "_model_module_version": "1.0.0",
      "_model_name": "OutputModel",
      "_view_count": null,
      "_view_module": "@jupyter-widgets/output",
      "_view_module_version": "1.0.0",
      "_view_name": "OutputView",
      "layout": "IPY_MODEL_c3223f60da214ecb9d8e43619fe3f332",
      "msg_id": "",
      "outputs": [
       {
        "data": {
         "text/html": "<pre style=\"white-space:pre;overflow-x:auto;line-height:normal;font-family:Menlo,'DejaVu Sans Mono',consolas,'Courier New',monospace\"><span style=\"color: #000000; text-decoration-color: #000000\">Predicting</span> <span style=\"color: #6206e0; text-decoration-color: #6206e0\">━━━━━━━━━━━━━━━━━━━━━━━━━━━━━━━━━━━━━━━━</span> <span style=\"color: #000000; text-decoration-color: #000000\">1/1</span> <span style=\"color: #8a8a8a; text-decoration-color: #8a8a8a\">0:00:00 • 0:00:00</span> <span style=\"color: #b2b2b2; text-decoration-color: #b2b2b2\">0.00it/s</span>  \n</pre>\n",
         "text/plain": "\u001b[30mPredicting\u001b[0m \u001b[38;2;98;6;224m━━━━━━━━━━━━━━━━━━━━━━━━━━━━━━━━━━━━━━━━\u001b[0m \u001b[30m1/1\u001b[0m \u001b[38;5;245m0:00:00 • 0:00:00\u001b[0m \u001b[38;5;249m0.00it/s\u001b[0m  \n"
        },
        "metadata": {},
        "output_type": "display_data"
       }
      ]
     }
    },
    "ef238b51d88c48c995daa9264be83f79": {
     "model_module": "@jupyter-widgets/output",
     "model_module_version": "1.0.0",
     "model_name": "OutputModel",
     "state": {
      "_dom_classes": [],
      "_model_module": "@jupyter-widgets/output",
      "_model_module_version": "1.0.0",
      "_model_name": "OutputModel",
      "_view_count": null,
      "_view_module": "@jupyter-widgets/output",
      "_view_module_version": "1.0.0",
      "_view_name": "OutputView",
      "layout": "IPY_MODEL_28845f9ee58b48189427f2c09a88b6fe",
      "msg_id": "",
      "outputs": [
       {
        "data": {
         "text/html": "<pre style=\"white-space:pre;overflow-x:auto;line-height:normal;font-family:Menlo,'DejaVu Sans Mono',consolas,'Courier New',monospace\"><span style=\"color: #000000; text-decoration-color: #000000\">Validation</span> <span style=\"color: #6206e0; text-decoration-color: #6206e0\">━━━━━━━━━━━━━━━━━━━━━━━━━━━━━━━━━━━━━━━━</span> <span style=\"color: #000000; text-decoration-color: #000000\">1/1</span> <span style=\"color: #8a8a8a; text-decoration-color: #8a8a8a\">0:00:00 • 0:00:00</span> <span style=\"color: #b2b2b2; text-decoration-color: #b2b2b2\">0.00it/s</span>  \n</pre>\n",
         "text/plain": "\u001b[30mValidation\u001b[0m \u001b[38;2;98;6;224m━━━━━━━━━━━━━━━━━━━━━━━━━━━━━━━━━━━━━━━━\u001b[0m \u001b[30m1/1\u001b[0m \u001b[38;5;245m0:00:00 • 0:00:00\u001b[0m \u001b[38;5;249m0.00it/s\u001b[0m  \n"
        },
        "metadata": {},
        "output_type": "display_data"
       }
      ]
     }
    },
    "f017fc3d59c04e47b5c52b0aeab81b11": {
     "model_module": "@jupyter-widgets/output",
     "model_module_version": "1.0.0",
     "model_name": "OutputModel",
     "state": {
      "_dom_classes": [],
      "_model_module": "@jupyter-widgets/output",
      "_model_module_version": "1.0.0",
      "_model_name": "OutputModel",
      "_view_count": null,
      "_view_module": "@jupyter-widgets/output",
      "_view_module_version": "1.0.0",
      "_view_name": "OutputView",
      "layout": "IPY_MODEL_209c3bc684304b5ab70a888cb13dff10",
      "msg_id": "",
      "outputs": [
       {
        "data": {
         "text/html": "<pre style=\"white-space:pre;overflow-x:auto;line-height:normal;font-family:Menlo,'DejaVu Sans Mono',consolas,'Courier New',monospace\">Epoch 99  <span style=\"color: #6206e0; text-decoration-color: #6206e0\">━━━━━━━━━━━━━━━━━━━━━━━━</span> <span style=\"color: #000000; text-decoration-color: #000000\">2/2</span> <span style=\"color: #8a8a8a; text-decoration-color: #8a8a8a\">0:00:00 • 0:00:00</span> <span style=\"color: #b2b2b2; text-decoration-color: #b2b2b2\">36.69it/s</span> <span style=\"color: #000000; text-decoration-color: #000000\">loss: 0.3 v_num: 1        </span>\n                                                                   <span style=\"color: #000000; text-decoration-color: #000000\">train/loss_step: 0.245    </span>\n                                                                   <span style=\"color: #000000; text-decoration-color: #000000\">train/accuracy_step: 0.993</span>\n                                                                   <span style=\"color: #000000; text-decoration-color: #000000\">valid/accuracy_step: 0.756</span>\n                                                                   <span style=\"color: #000000; text-decoration-color: #000000\">test/accuracy_step: 0.748 </span>\n                                                                   <span style=\"color: #000000; text-decoration-color: #000000\">valid/accuracy_epoch:     </span>\n                                                                   <span style=\"color: #000000; text-decoration-color: #000000\">0.756 test/accuracy_epoch:</span>\n                                                                   <span style=\"color: #000000; text-decoration-color: #000000\">0.748 train/loss_epoch:   </span>\n                                                                   <span style=\"color: #000000; text-decoration-color: #000000\">0.25 train/accuracy_epoch:</span>\n                                                                   <span style=\"color: #000000; text-decoration-color: #000000\">0.993                     </span>\n</pre>\n",
         "text/plain": "Epoch 99  \u001b[38;2;98;6;224m━━━━━━━━━━━━━━━━━━━━━━━━\u001b[0m \u001b[30m2/2\u001b[0m \u001b[38;5;245m0:00:00 • 0:00:00\u001b[0m \u001b[38;5;249m36.69it/s\u001b[0m \u001b[30mloss: 0.3 v_num: 1        \u001b[0m\n                                                                   \u001b[30mtrain/loss_step: 0.245    \u001b[0m\n                                                                   \u001b[30mtrain/accuracy_step: 0.993\u001b[0m\n                                                                   \u001b[30mvalid/accuracy_step: 0.756\u001b[0m\n                                                                   \u001b[30mtest/accuracy_step: 0.748 \u001b[0m\n                                                                   \u001b[30mvalid/accuracy_epoch:     \u001b[0m\n                                                                   \u001b[30m0.756 test/accuracy_epoch:\u001b[0m\n                                                                   \u001b[30m0.748 train/loss_epoch:   \u001b[0m\n                                                                   \u001b[30m0.25 train/accuracy_epoch:\u001b[0m\n                                                                   \u001b[30m0.993                     \u001b[0m\n"
        },
        "metadata": {},
        "output_type": "display_data"
       }
      ]
     }
    }
   }
  }
 },
 "nbformat": 4,
 "nbformat_minor": 1
}
